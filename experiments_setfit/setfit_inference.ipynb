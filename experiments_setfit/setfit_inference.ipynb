{
 "cells": [
  {
   "cell_type": "code",
   "execution_count": 2,
   "metadata": {},
   "outputs": [],
   "source": [
    "import numpy as np\n",
    "import pandas as pd\n",
    "from datasets import load_dataset\n",
    "from setfit import SetFitModel\n",
    "from datasets import load_dataset"
   ]
  },
  {
   "attachments": {},
   "cell_type": "markdown",
   "metadata": {},
   "source": [
    "### Inference on real data"
   ]
  },
  {
   "cell_type": "code",
   "execution_count": 20,
   "metadata": {},
   "outputs": [],
   "source": [
    "# load test data\n",
    "df_test = pd.read_csv('../temp_training/medallion/gold/MASTER_gold_verified.csv')"
   ]
  },
  {
   "cell_type": "code",
   "execution_count": 21,
   "metadata": {},
   "outputs": [
    {
     "data": {
      "text/html": [
       "<div>\n",
       "<style scoped>\n",
       "    .dataframe tbody tr th:only-of-type {\n",
       "        vertical-align: middle;\n",
       "    }\n",
       "\n",
       "    .dataframe tbody tr th {\n",
       "        vertical-align: top;\n",
       "    }\n",
       "\n",
       "    .dataframe thead th {\n",
       "        text-align: right;\n",
       "    }\n",
       "</style>\n",
       "<table border=\"1\" class=\"dataframe\">\n",
       "  <thead>\n",
       "    <tr style=\"text-align: right;\">\n",
       "      <th></th>\n",
       "      <th>URI</th>\n",
       "      <th>TOPIC</th>\n",
       "      <th>TITLE</th>\n",
       "      <th>BODY_SUMMARY</th>\n",
       "    </tr>\n",
       "  </thead>\n",
       "  <tbody>\n",
       "    <tr>\n",
       "      <th>0</th>\n",
       "      <td>7405996862</td>\n",
       "      <td>aviation</td>\n",
       "      <td>Passengers took a 16-hour flight to nowhere af...</td>\n",
       "      <td>An Air New Zealand flight bound for New York o...</td>\n",
       "    </tr>\n",
       "    <tr>\n",
       "      <th>1</th>\n",
       "      <td>7402259886</td>\n",
       "      <td>aviation</td>\n",
       "      <td>Frankfurt airport halts most landings amid Luf...</td>\n",
       "      <td>Lufthansa forced to cancel or delay flights ac...</td>\n",
       "    </tr>\n",
       "    <tr>\n",
       "      <th>2</th>\n",
       "      <td>7412762767</td>\n",
       "      <td>aviation</td>\n",
       "      <td>Drone activity leads to flight disruption at D...</td>\n",
       "      <td>Small unmanned aircraft was first spotted on t...</td>\n",
       "    </tr>\n",
       "    <tr>\n",
       "      <th>3</th>\n",
       "      <td>7430022659</td>\n",
       "      <td>aviation</td>\n",
       "      <td>All flights grounded at airport near Penn Stat...</td>\n",
       "      <td>NEW: The Federal Aviation Administration issue...</td>\n",
       "    </tr>\n",
       "    <tr>\n",
       "      <th>4</th>\n",
       "      <td>7436851985</td>\n",
       "      <td>aviation</td>\n",
       "      <td>Flights diverted to Birmingham Airport as heav...</td>\n",
       "      <td>Planes from Bristol Airport were suspended due...</td>\n",
       "    </tr>\n",
       "    <tr>\n",
       "      <th>...</th>\n",
       "      <td>...</td>\n",
       "      <td>...</td>\n",
       "      <td>...</td>\n",
       "      <td>...</td>\n",
       "    </tr>\n",
       "    <tr>\n",
       "      <th>318</th>\n",
       "      <td>7507227834</td>\n",
       "      <td>warehouse_fire</td>\n",
       "      <td>India News  Fire at Play School in Gurugram, N...</td>\n",
       "      <td>A major fire broke out at a play school-cum-da...</td>\n",
       "    </tr>\n",
       "    <tr>\n",
       "      <th>319</th>\n",
       "      <td>7507227613</td>\n",
       "      <td>warehouse_fire</td>\n",
       "      <td>Fire at play school in Gurugram, none hurt  Sc...</td>\n",
       "      <td>A major fire broke out at a play school-cum-da...</td>\n",
       "    </tr>\n",
       "    <tr>\n",
       "      <th>320</th>\n",
       "      <td>7506671603</td>\n",
       "      <td>warehouse_fire</td>\n",
       "      <td>4 charred to death in blaze at firecracker god...</td>\n",
       "      <td>A massive fire at a firecracker warehouse near...</td>\n",
       "    </tr>\n",
       "    <tr>\n",
       "      <th>321</th>\n",
       "      <td>7506647667</td>\n",
       "      <td>warehouse_fire</td>\n",
       "      <td>Pictures show scale of huge fire at Gwynedd in...</td>\n",
       "      <td>By 3pm, seven fire crews, police, and paramedi...</td>\n",
       "    </tr>\n",
       "    <tr>\n",
       "      <th>322</th>\n",
       "      <td>7506346189</td>\n",
       "      <td>warehouse_fire</td>\n",
       "      <td>Death toll from Beijing hospital deadly blaze ...</td>\n",
       "      <td>The fire broke out in the east wing of the Bei...</td>\n",
       "    </tr>\n",
       "  </tbody>\n",
       "</table>\n",
       "<p>323 rows × 4 columns</p>\n",
       "</div>"
      ],
      "text/plain": [
       "            URI           TOPIC  \\\n",
       "0    7405996862        aviation   \n",
       "1    7402259886        aviation   \n",
       "2    7412762767        aviation   \n",
       "3    7430022659        aviation   \n",
       "4    7436851985        aviation   \n",
       "..          ...             ...   \n",
       "318  7507227834  warehouse_fire   \n",
       "319  7507227613  warehouse_fire   \n",
       "320  7506671603  warehouse_fire   \n",
       "321  7506647667  warehouse_fire   \n",
       "322  7506346189  warehouse_fire   \n",
       "\n",
       "                                                 TITLE  \\\n",
       "0    Passengers took a 16-hour flight to nowhere af...   \n",
       "1    Frankfurt airport halts most landings amid Luf...   \n",
       "2    Drone activity leads to flight disruption at D...   \n",
       "3    All flights grounded at airport near Penn Stat...   \n",
       "4    Flights diverted to Birmingham Airport as heav...   \n",
       "..                                                 ...   \n",
       "318  India News  Fire at Play School in Gurugram, N...   \n",
       "319  Fire at play school in Gurugram, none hurt  Sc...   \n",
       "320  4 charred to death in blaze at firecracker god...   \n",
       "321  Pictures show scale of huge fire at Gwynedd in...   \n",
       "322  Death toll from Beijing hospital deadly blaze ...   \n",
       "\n",
       "                                          BODY_SUMMARY  \n",
       "0    An Air New Zealand flight bound for New York o...  \n",
       "1    Lufthansa forced to cancel or delay flights ac...  \n",
       "2    Small unmanned aircraft was first spotted on t...  \n",
       "3    NEW: The Federal Aviation Administration issue...  \n",
       "4    Planes from Bristol Airport were suspended due...  \n",
       "..                                                 ...  \n",
       "318  A major fire broke out at a play school-cum-da...  \n",
       "319  A major fire broke out at a play school-cum-da...  \n",
       "320  A massive fire at a firecracker warehouse near...  \n",
       "321  By 3pm, seven fire crews, police, and paramedi...  \n",
       "322  The fire broke out in the east wing of the Bei...  \n",
       "\n",
       "[323 rows x 4 columns]"
      ]
     },
     "execution_count": 21,
     "metadata": {},
     "output_type": "execute_result"
    }
   ],
   "source": [
    "df_test"
   ]
  },
  {
   "cell_type": "code",
   "execution_count": 37,
   "metadata": {},
   "outputs": [],
   "source": [
    "test_texts = list(df_test['TITLE'] + \". \" + df_test['BODY_SUMMARY'])\n",
    "test_labels = list(df_test['TOPIC'])"
   ]
  },
  {
   "cell_type": "code",
   "execution_count": 40,
   "metadata": {},
   "outputs": [
    {
     "data": {
      "text/plain": [
       "['railway',\n",
       " 'general_biz_trend',\n",
       " 'domestic_unrest_violence',\n",
       " 'individual_accidents_tragedies',\n",
       " 'aviation',\n",
       " 'later_report',\n",
       " 'trade_war_embargos_bans',\n",
       " 'warehouse_fire',\n",
       " 'maritime',\n",
       " 'war_conflict',\n",
       " 'leisure_other_news',\n",
       " 'strike',\n",
       " 'transportation_trends_projects',\n",
       " 'extreme_weather',\n",
       " 'lawsuit_legal_insurance',\n",
       " 'cybersecurity']"
      ]
     },
     "execution_count": 40,
     "metadata": {},
     "output_type": "execute_result"
    }
   ],
   "source": [
    "test_labels_unique = list(set(test_labels))\n",
    "test_labels_unique"
   ]
  },
  {
   "cell_type": "code",
   "execution_count": 2,
   "metadata": {},
   "outputs": [
    {
     "data": {
      "application/vnd.jupyter.widget-view+json": {
       "model_id": "73df1bc1d15c465f9c7123e46a12725a",
       "version_major": 2,
       "version_minor": 0
      },
      "text/plain": [
       "Downloading config.json:   0%|          | 0.00/662 [00:00<?, ?B/s]"
      ]
     },
     "metadata": {},
     "output_type": "display_data"
    },
    {
     "name": "stderr",
     "output_type": "stream",
     "text": [
      "c:\\Users\\JOSHUALE\\Documents\\Github\\mlflow_tutorial\\venv\\lib\\site-packages\\huggingface_hub\\file_download.py:137: UserWarning: `huggingface_hub` cache-system uses symlinks by default to efficiently store duplicated files but your machine does not support them in C:\\Users\\JOSHUALE\\.cache\\huggingface\\hub. Caching files will still work but in a degraded version that might require more space on your disk. This warning can be disabled by setting the `HF_HUB_DISABLE_SYMLINKS_WARNING` environment variable. For more details, see https://huggingface.co/docs/huggingface_hub/how-to-cache#limitations.\n",
      "To support symlinks on Windows, you either need to activate Developer Mode or to run Python as an administrator. In order to see activate developer mode, see this article: https://docs.microsoft.com/en-us/windows/apps/get-started/enable-your-device-for-development\n",
      "  warnings.warn(message)\n"
     ]
    },
    {
     "data": {
      "application/vnd.jupyter.widget-view+json": {
       "model_id": "7b9f1a15adb74f9286b9be5063b0eae4",
       "version_major": 2,
       "version_minor": 0
      },
      "text/plain": [
       "Downloading .gitattributes:   0%|          | 0.00/1.52k [00:00<?, ?B/s]"
      ]
     },
     "metadata": {},
     "output_type": "display_data"
    },
    {
     "data": {
      "application/vnd.jupyter.widget-view+json": {
       "model_id": "4741f391109b4b27b2241e5435a7d792",
       "version_major": 2,
       "version_minor": 0
      },
      "text/plain": [
       "Downloading 1_Pooling/config.json:   0%|          | 0.00/190 [00:00<?, ?B/s]"
      ]
     },
     "metadata": {},
     "output_type": "display_data"
    },
    {
     "data": {
      "application/vnd.jupyter.widget-view+json": {
       "model_id": "872c9ecca383450ca04c7944634eb5c3",
       "version_major": 2,
       "version_minor": 0
      },
      "text/plain": [
       "Downloading README.md:   0%|          | 0.00/2.44k [00:00<?, ?B/s]"
      ]
     },
     "metadata": {},
     "output_type": "display_data"
    },
    {
     "data": {
      "application/vnd.jupyter.widget-view+json": {
       "model_id": "f0ec6fe290c946eaa4d186c307372bce",
       "version_major": 2,
       "version_minor": 0
      },
      "text/plain": [
       "Downloading added_tokens.json:   0%|          | 0.00/77.0 [00:00<?, ?B/s]"
      ]
     },
     "metadata": {},
     "output_type": "display_data"
    },
    {
     "data": {
      "application/vnd.jupyter.widget-view+json": {
       "model_id": "6fbca06f2bea4d87824bee480693ce6f",
       "version_major": 2,
       "version_minor": 0
      },
      "text/plain": [
       "Downloading config.json:   0%|          | 0.00/662 [00:00<?, ?B/s]"
      ]
     },
     "metadata": {},
     "output_type": "display_data"
    },
    {
     "data": {
      "application/vnd.jupyter.widget-view+json": {
       "model_id": "50615c1a37cb4a78a1be4fa86861bcda",
       "version_major": 2,
       "version_minor": 0
      },
      "text/plain": [
       "Downloading (…)ce_transformers.json:   0%|          | 0.00/122 [00:00<?, ?B/s]"
      ]
     },
     "metadata": {},
     "output_type": "display_data"
    },
    {
     "data": {
      "application/vnd.jupyter.widget-view+json": {
       "model_id": "2bdd9542092b47a2afd513e2c8b0bd16",
       "version_major": 2,
       "version_minor": 0
      },
      "text/plain": [
       "Downloading model_head.pkl:   0%|          | 0.00/118k [00:00<?, ?B/s]"
      ]
     },
     "metadata": {},
     "output_type": "display_data"
    },
    {
     "data": {
      "application/vnd.jupyter.widget-view+json": {
       "model_id": "45019055df0d4cd09965e8e5569255e0",
       "version_major": 2,
       "version_minor": 0
      },
      "text/plain": [
       "Downloading pytorch_model.bin:   0%|          | 0.00/438M [00:00<?, ?B/s]"
      ]
     },
     "metadata": {},
     "output_type": "display_data"
    },
    {
     "data": {
      "application/vnd.jupyter.widget-view+json": {
       "model_id": "836461908f0f4564aec9f83d40142629",
       "version_major": 2,
       "version_minor": 0
      },
      "text/plain": [
       "Downloading (…)nce_bert_config.json:   0%|          | 0.00/53.0 [00:00<?, ?B/s]"
      ]
     },
     "metadata": {},
     "output_type": "display_data"
    },
    {
     "data": {
      "application/vnd.jupyter.widget-view+json": {
       "model_id": "ed64d88533fc4dcabf8881d5e481c25d",
       "version_major": 2,
       "version_minor": 0
      },
      "text/plain": [
       "Downloading (…)cial_tokens_map.json:   0%|          | 0.00/167 [00:00<?, ?B/s]"
      ]
     },
     "metadata": {},
     "output_type": "display_data"
    },
    {
     "data": {
      "application/vnd.jupyter.widget-view+json": {
       "model_id": "b2f1481f8ee54f10afe7f6d672ef074b",
       "version_major": 2,
       "version_minor": 0
      },
      "text/plain": [
       "Downloading tokenizer.json:   0%|          | 0.00/712k [00:00<?, ?B/s]"
      ]
     },
     "metadata": {},
     "output_type": "display_data"
    },
    {
     "data": {
      "application/vnd.jupyter.widget-view+json": {
       "model_id": "e50d030d25734303b1a8edfe0fd477fe",
       "version_major": 2,
       "version_minor": 0
      },
      "text/plain": [
       "Downloading tokenizer_config.json:   0%|          | 0.00/1.31k [00:00<?, ?B/s]"
      ]
     },
     "metadata": {},
     "output_type": "display_data"
    },
    {
     "data": {
      "application/vnd.jupyter.widget-view+json": {
       "model_id": "9c4330071df148c9a8a81d83b7041aad",
       "version_major": 2,
       "version_minor": 0
      },
      "text/plain": [
       "Downloading vocab.txt:   0%|          | 0.00/232k [00:00<?, ?B/s]"
      ]
     },
     "metadata": {},
     "output_type": "display_data"
    },
    {
     "data": {
      "application/vnd.jupyter.widget-view+json": {
       "model_id": "390f59fc8f06436b825f2ef6a40f8297",
       "version_major": 2,
       "version_minor": 0
      },
      "text/plain": [
       "Downloading modules.json:   0%|          | 0.00/229 [00:00<?, ?B/s]"
      ]
     },
     "metadata": {},
     "output_type": "display_data"
    },
    {
     "name": "stderr",
     "output_type": "stream",
     "text": [
      "Special tokens have been added in the vocabulary, make sure the associated word embeddings are fine-tuned or trained.\n"
     ]
    },
    {
     "data": {
      "application/vnd.jupyter.widget-view+json": {
       "model_id": "f079e5362adf48a1b88edd7879ff09f0",
       "version_major": 2,
       "version_minor": 0
      },
      "text/plain": [
       "Downloading model_head.pkl:   0%|          | 0.00/118k [00:00<?, ?B/s]"
      ]
     },
     "metadata": {},
     "output_type": "display_data"
    },
    {
     "name": "stderr",
     "output_type": "stream",
     "text": [
      "c:\\Users\\JOSHUALE\\Documents\\Github\\mlflow_tutorial\\venv\\lib\\site-packages\\sklearn\\base.py:348: InconsistentVersionWarning: Trying to unpickle estimator LogisticRegression from version 1.1.1 when using version 1.3.1. This might lead to breaking code or invalid results. Use at your own risk. For more info please refer to:\n",
      "https://scikit-learn.org/stable/model_persistence.html#security-maintainability-limitations\n",
      "  warnings.warn(\n",
      "c:\\Users\\JOSHUALE\\Documents\\Github\\mlflow_tutorial\\venv\\lib\\site-packages\\sklearn\\base.py:348: InconsistentVersionWarning: Trying to unpickle estimator LabelBinarizer from version 1.1.1 when using version 1.3.1. This might lead to breaking code or invalid results. Use at your own risk. For more info please refer to:\n",
      "https://scikit-learn.org/stable/model_persistence.html#security-maintainability-limitations\n",
      "  warnings.warn(\n",
      "c:\\Users\\JOSHUALE\\Documents\\Github\\mlflow_tutorial\\venv\\lib\\site-packages\\sklearn\\base.py:348: InconsistentVersionWarning: Trying to unpickle estimator OneVsRestClassifier from version 1.1.1 when using version 1.3.1. This might lead to breaking code or invalid results. Use at your own risk. For more info please refer to:\n",
      "https://scikit-learn.org/stable/model_persistence.html#security-maintainability-limitations\n",
      "  warnings.warn(\n"
     ]
    }
   ],
   "source": [
    "# Load SetFit model from Hub\n",
    "model = SetFitModel.from_pretrained(\"joshuapsa/setfit-news-topic-paragraphs\")"
   ]
  },
  {
   "cell_type": "code",
   "execution_count": 6,
   "metadata": {},
   "outputs": [],
   "source": [
    "# load the original training dataset of the model:\n",
    "training_dataset = load_dataset(\"joshuapsa/gpt-generated-news-paragraphs\")"
   ]
  },
  {
   "cell_type": "code",
   "execution_count": 48,
   "metadata": {},
   "outputs": [
    {
     "data": {
      "text/plain": [
       "['aviation',\n",
       " 'cybersecurity',\n",
       " 'domestic_unrest_violence',\n",
       " 'extreme_weather',\n",
       " 'forced_labor',\n",
       " 'general_biz_trend',\n",
       " 'individual_accidents_tragedies',\n",
       " 'later_report',\n",
       " 'lawsuit_legal_insurance',\n",
       " 'leisure_other_news',\n",
       " 'maritime',\n",
       " 'pandemics_large_scale_diseases',\n",
       " 'railway',\n",
       " 'strike',\n",
       " 'trade_war_embargos_bans',\n",
       " 'transportation_trends_projects',\n",
       " 'war_conflict',\n",
       " 'warehouse_fire']"
      ]
     },
     "execution_count": 48,
     "metadata": {},
     "output_type": "execute_result"
    }
   ],
   "source": [
    "# getting the original order of the labels and compare that with the test set\n",
    "non_labels = ['class_index', 'text', 'labels']\n",
    "labels = [item for item in list(training_dataset['train'].features.keys()) if item not in non_labels]\n",
    "labels"
   ]
  },
  {
   "cell_type": "code",
   "execution_count": 49,
   "metadata": {},
   "outputs": [
    {
     "data": {
      "text/plain": [
       "['aviation',\n",
       " 'cybersecurity',\n",
       " 'domestic_unrest_violence',\n",
       " 'extreme_weather',\n",
       " 'general_biz_trend',\n",
       " 'individual_accidents_tragedies',\n",
       " 'later_report',\n",
       " 'lawsuit_legal_insurance',\n",
       " 'leisure_other_news',\n",
       " 'maritime',\n",
       " 'railway',\n",
       " 'strike',\n",
       " 'trade_war_embargos_bans',\n",
       " 'transportation_trends_projects',\n",
       " 'war_conflict',\n",
       " 'warehouse_fire']"
      ]
     },
     "execution_count": 49,
     "metadata": {},
     "output_type": "execute_result"
    }
   ],
   "source": [
    "test_labels_unique"
   ]
  },
  {
   "cell_type": "code",
   "execution_count": 45,
   "metadata": {},
   "outputs": [],
   "source": [
    "# getting prediction label arrays and probabilities\n",
    "test_preds = model.predict(test_texts)\n",
    "test_pred_probas = model.predict_proba(test_texts)"
   ]
  },
  {
   "cell_type": "code",
   "execution_count": 50,
   "metadata": {},
   "outputs": [
    {
     "data": {
      "text/plain": [
       "tensor([1, 0, 0, 0, 0, 0, 0, 0, 0, 0, 0, 0, 0, 0, 0, 0, 0, 0],\n",
       "       dtype=torch.int32)"
      ]
     },
     "execution_count": 50,
     "metadata": {},
     "output_type": "execute_result"
    }
   ],
   "source": [
    "test_preds[0]"
   ]
  },
  {
   "cell_type": "code",
   "execution_count": 51,
   "metadata": {},
   "outputs": [],
   "source": [
    "# post-processing to get the predicted labels\n",
    "pred_labels = [labels[np.argmax(pred)] for pred in test_preds]"
   ]
  },
  {
   "cell_type": "code",
   "execution_count": 58,
   "metadata": {},
   "outputs": [
    {
     "data": {
      "text/plain": [
       "<sklearn.metrics._plot.confusion_matrix.ConfusionMatrixDisplay at 0x2397f9b7d30>"
      ]
     },
     "execution_count": 58,
     "metadata": {},
     "output_type": "execute_result"
    },
    {
     "data": {
      "image/png": "[encoded data removed]",
      "text/plain": [
       "<Figure size 640x480 with 2 Axes>"
      ]
     },
     "metadata": {},
     "output_type": "display_data"
    }
   ],
   "source": [
    "from sklearn.metrics import confusion_matrix, ConfusionMatrixDisplay\n",
    "\n",
    "cm = confusion_matrix(y_true = test_labels, y_pred = pred_labels, labels=labels)\n",
    "disp = ConfusionMatrixDisplay(confusion_matrix=cm, display_labels=labels)\n",
    "disp.plot(xticks_rotation='vertical')"
   ]
  },
  {
   "attachments": {},
   "cell_type": "markdown",
   "metadata": {},
   "source": [
    "### Repeat on actual test data of the dataset used for training"
   ]
  },
  {
   "cell_type": "code",
   "execution_count": 4,
   "metadata": {},
   "outputs": [],
   "source": [
    "# load the original training dataset of the model:\n",
    "training_dataset = load_dataset(\"joshuapsa/gpt-generated-news-paragraphs-v1.1\")\n",
    "# convert to df for ease of working:\n",
    "train_df = pd.DataFrame(training_dataset['train'])\n",
    "test_df = pd.DataFrame(training_dataset['test'])"
   ]
  },
  {
   "cell_type": "code",
   "execution_count": 6,
   "metadata": {},
   "outputs": [
    {
     "data": {
      "text/html": [
       "<div>\n",
       "<style scoped>\n",
       "    .dataframe tbody tr th:only-of-type {\n",
       "        vertical-align: middle;\n",
       "    }\n",
       "\n",
       "    .dataframe tbody tr th {\n",
       "        vertical-align: top;\n",
       "    }\n",
       "\n",
       "    .dataframe thead th {\n",
       "        text-align: right;\n",
       "    }\n",
       "</style>\n",
       "<table border=\"1\" class=\"dataframe\">\n",
       "  <thead>\n",
       "    <tr style=\"text-align: right;\">\n",
       "      <th></th>\n",
       "      <th>class_name</th>\n",
       "      <th>text</th>\n",
       "      <th>aviation</th>\n",
       "      <th>cybersecurity</th>\n",
       "      <th>domestic_unrest_violence</th>\n",
       "      <th>extreme_weather</th>\n",
       "      <th>forced_labor</th>\n",
       "      <th>general_biz_trend</th>\n",
       "      <th>individual_accidents_tragedies</th>\n",
       "      <th>later_report</th>\n",
       "      <th>...</th>\n",
       "      <th>maritime</th>\n",
       "      <th>pandemics_large_scale_diseases</th>\n",
       "      <th>railway</th>\n",
       "      <th>strike</th>\n",
       "      <th>trade_war_embargos_bans</th>\n",
       "      <th>transportation_trends_projects</th>\n",
       "      <th>war_conflict</th>\n",
       "      <th>warehouse_fire</th>\n",
       "      <th>class_index</th>\n",
       "      <th>label</th>\n",
       "    </tr>\n",
       "  </thead>\n",
       "  <tbody>\n",
       "    <tr>\n",
       "      <th>0</th>\n",
       "      <td>strike</td>\n",
       "      <td>Textile workers in the fictional town of Fabri...</td>\n",
       "      <td>0</td>\n",
       "      <td>0</td>\n",
       "      <td>0</td>\n",
       "      <td>0</td>\n",
       "      <td>0</td>\n",
       "      <td>0</td>\n",
       "      <td>0</td>\n",
       "      <td>0</td>\n",
       "      <td>...</td>\n",
       "      <td>0</td>\n",
       "      <td>0</td>\n",
       "      <td>0</td>\n",
       "      <td>1</td>\n",
       "      <td>0</td>\n",
       "      <td>0</td>\n",
       "      <td>0</td>\n",
       "      <td>0</td>\n",
       "      <td>13</td>\n",
       "      <td>[0, 0, 0, 0, 0, 0, 0, 0, 0, 0, 0, 0, 0, 1, 0, ...</td>\n",
       "    </tr>\n",
       "    <tr>\n",
       "      <th>1</th>\n",
       "      <td>forced_labor</td>\n",
       "      <td>London, UK, is rocked by a forced labor scanda...</td>\n",
       "      <td>0</td>\n",
       "      <td>0</td>\n",
       "      <td>0</td>\n",
       "      <td>0</td>\n",
       "      <td>1</td>\n",
       "      <td>0</td>\n",
       "      <td>0</td>\n",
       "      <td>0</td>\n",
       "      <td>...</td>\n",
       "      <td>0</td>\n",
       "      <td>0</td>\n",
       "      <td>0</td>\n",
       "      <td>0</td>\n",
       "      <td>0</td>\n",
       "      <td>0</td>\n",
       "      <td>0</td>\n",
       "      <td>0</td>\n",
       "      <td>4</td>\n",
       "      <td>[0, 0, 0, 0, 1, 0, 0, 0, 0, 0, 0, 0, 0, 0, 0, ...</td>\n",
       "    </tr>\n",
       "  </tbody>\n",
       "</table>\n",
       "<p>2 rows × 22 columns</p>\n",
       "</div>"
      ],
      "text/plain": [
       "     class_name                                               text  aviation  \\\n",
       "0        strike  Textile workers in the fictional town of Fabri...         0   \n",
       "1  forced_labor  London, UK, is rocked by a forced labor scanda...         0   \n",
       "\n",
       "   cybersecurity  domestic_unrest_violence  extreme_weather  forced_labor  \\\n",
       "0              0                         0                0             0   \n",
       "1              0                         0                0             1   \n",
       "\n",
       "   general_biz_trend  individual_accidents_tragedies  later_report  ...  \\\n",
       "0                  0                               0             0  ...   \n",
       "1                  0                               0             0  ...   \n",
       "\n",
       "   maritime  pandemics_large_scale_diseases  railway  strike  \\\n",
       "0         0                               0        0       1   \n",
       "1         0                               0        0       0   \n",
       "\n",
       "   trade_war_embargos_bans  transportation_trends_projects  war_conflict  \\\n",
       "0                        0                               0             0   \n",
       "1                        0                               0             0   \n",
       "\n",
       "   warehouse_fire  class_index  \\\n",
       "0               0           13   \n",
       "1               0            4   \n",
       "\n",
       "                                               label  \n",
       "0  [0, 0, 0, 0, 0, 0, 0, 0, 0, 0, 0, 0, 0, 1, 0, ...  \n",
       "1  [0, 0, 0, 0, 1, 0, 0, 0, 0, 0, 0, 0, 0, 0, 0, ...  \n",
       "\n",
       "[2 rows x 22 columns]"
      ]
     },
     "execution_count": 6,
     "metadata": {},
     "output_type": "execute_result"
    }
   ],
   "source": [
    "test_df.head(2)"
   ]
  },
  {
   "cell_type": "code",
   "execution_count": 7,
   "metadata": {},
   "outputs": [],
   "source": [
    "test_texts = list(test_df['text'])\n",
    "test_labels = list(test_df['class_name'])"
   ]
  },
  {
   "cell_type": "code",
   "execution_count": null,
   "metadata": {},
   "outputs": [],
   "source": [
    "# Load SetFit model from Hub\n",
    "model = SetFitModel.from_pretrained(\"joshuapsa/setfit-news-topic-paragraphs\")"
   ]
  },
  {
   "cell_type": "code",
   "execution_count": null,
   "metadata": {},
   "outputs": [],
   "source": [
    "# getting prediction label arrays and probabilities\n",
    "test_preds = model.predict(test_texts)\n",
    "test_pred_probas = model.predict_proba(test_texts)"
   ]
  }
 ],
 "metadata": {
  "kernelspec": {
   "display_name": "venv",
   "language": "python",
   "name": "python3"
  },
  "language_info": {
   "codemirror_mode": {
    "name": "ipython",
    "version": 3
   },
   "file_extension": ".py",
   "mimetype": "text/x-python",
   "name": "python",
   "nbconvert_exporter": "python",
   "pygments_lexer": "ipython3",
   "version": "3.10.11 (tags/v3.10.11:7d4cc5a, Apr  5 2023, 00:38:17) [MSC v.1929 64 bit (AMD64)]"
  },
  "orig_nbformat": 4,
  "vscode": {
   "interpreter": {
    "hash": "286bc12fa30b74ef856228bed3e3c37bde5be697e37af5195e71bc249a2a5043"
   }
  }
 },
 "nbformat": 4,
 "nbformat_minor": 2
}
