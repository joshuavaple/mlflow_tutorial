{
 "cells": [
  {
   "cell_type": "code",
   "execution_count": 13,
   "metadata": {},
   "outputs": [],
   "source": [
    "import pandas as pd\n",
    "from sklearn.model_selection import train_test_split\n",
    "import numpy as np"
   ]
  },
  {
   "cell_type": "code",
   "execution_count": 4,
   "metadata": {},
   "outputs": [
    {
     "data": {
      "text/plain": [
       "class_name\n",
       "aviation                           73\n",
       "domestic_unrest_violence           51\n",
       "extreme_weather                    98\n",
       "general_biz_trend                 122\n",
       "general_medical_trend             141\n",
       "individual_accidents_tragedies     92\n",
       "later_report                       58\n",
       "lawsuit_legal_insurance            84\n",
       "leisure_other_news                109\n",
       "maritime                           59\n",
       "pandemics_large_scale_diseases     55\n",
       "railway                            56\n",
       "strike                             66\n",
       "trade_war_embargos_bans            52\n",
       "transportation_trends_projects     54\n",
       "war_conflict                       53\n",
       "warehouse_fire                     62\n",
       "dtype: int64"
      ]
     },
     "execution_count": 4,
     "metadata": {},
     "output_type": "execute_result"
    }
   ],
   "source": [
    "df = pd.read_csv('../temp_training/medallion/gold/MASTER_gold_verified.csv')\n",
    "df.groupby('class_name').size()"
   ]
  },
  {
   "cell_type": "code",
   "execution_count": 14,
   "metadata": {},
   "outputs": [],
   "source": [
    "# Define a function to sample 50 rows for each group\n",
    "def sample_rows(group):\n",
    "    np.random.seed(0)\n",
    "    return group.sample(min(len(group), 50),)\n",
    "\n",
    "# Apply the function to each group in the DataFrame\n",
    "random_sample = df.groupby('class_name', group_keys=False).apply(sample_rows)"
   ]
  },
  {
   "cell_type": "code",
   "execution_count": 15,
   "metadata": {},
   "outputs": [],
   "source": [
    "random_sample.groupby('class_name').size()\n",
    "df_train, df_test = train_test_split(random_sample, test_size=0.2, stratify=random_sample['class_name'], random_state=0)"
   ]
  },
  {
   "cell_type": "code",
   "execution_count": 17,
   "metadata": {},
   "outputs": [
    {
     "name": "stdout",
     "output_type": "stream",
     "text": [
      "class_name\n",
      "aviation                          40\n",
      "domestic_unrest_violence          40\n",
      "extreme_weather                   40\n",
      "general_biz_trend                 40\n",
      "general_medical_trend             40\n",
      "individual_accidents_tragedies    40\n",
      "later_report                      40\n",
      "lawsuit_legal_insurance           40\n",
      "leisure_other_news                40\n",
      "maritime                          40\n",
      "pandemics_large_scale_diseases    40\n",
      "railway                           40\n",
      "strike                            40\n",
      "trade_war_embargos_bans           40\n",
      "transportation_trends_projects    40\n",
      "war_conflict                      40\n",
      "warehouse_fire                    40\n",
      "dtype: int64\n",
      "class_name\n",
      "aviation                          10\n",
      "domestic_unrest_violence          10\n",
      "extreme_weather                   10\n",
      "general_biz_trend                 10\n",
      "general_medical_trend             10\n",
      "individual_accidents_tragedies    10\n",
      "later_report                      10\n",
      "lawsuit_legal_insurance           10\n",
      "leisure_other_news                10\n",
      "maritime                          10\n",
      "pandemics_large_scale_diseases    10\n",
      "railway                           10\n",
      "strike                            10\n",
      "trade_war_embargos_bans           10\n",
      "transportation_trends_projects    10\n",
      "war_conflict                      10\n",
      "warehouse_fire                    10\n",
      "dtype: int64\n"
     ]
    }
   ],
   "source": [
    "print(df_train.groupby('class_name').size())\n",
    "print(df_test.groupby('class_name').size())"
   ]
  }
 ],
 "metadata": {
  "kernelspec": {
   "display_name": "venv",
   "language": "python",
   "name": "python3"
  },
  "language_info": {
   "codemirror_mode": {
    "name": "ipython",
    "version": 3
   },
   "file_extension": ".py",
   "mimetype": "text/x-python",
   "name": "python",
   "nbconvert_exporter": "python",
   "pygments_lexer": "ipython3",
   "version": "3.10.11 (tags/v3.10.11:7d4cc5a, Apr  5 2023, 00:38:17) [MSC v.1929 64 bit (AMD64)]"
  },
  "orig_nbformat": 4,
  "vscode": {
   "interpreter": {
    "hash": "286bc12fa30b74ef856228bed3e3c37bde5be697e37af5195e71bc249a2a5043"
   }
  }
 },
 "nbformat": 4,
 "nbformat_minor": 2
}
