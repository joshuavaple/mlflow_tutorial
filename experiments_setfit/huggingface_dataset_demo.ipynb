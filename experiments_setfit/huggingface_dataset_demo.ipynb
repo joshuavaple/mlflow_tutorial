{
 "cells": [
  {
   "cell_type": "code",
   "execution_count": 1,
   "metadata": {},
   "outputs": [],
   "source": [
    "from datasets import Dataset\n",
    "import pandas as pd"
   ]
  },
  {
   "cell_type": "code",
   "execution_count": 5,
   "metadata": {},
   "outputs": [
    {
     "data": {
      "text/html": [
       "<div>\n",
       "<style scoped>\n",
       "    .dataframe tbody tr th:only-of-type {\n",
       "        vertical-align: middle;\n",
       "    }\n",
       "\n",
       "    .dataframe tbody tr th {\n",
       "        vertical-align: top;\n",
       "    }\n",
       "\n",
       "    .dataframe thead th {\n",
       "        text-align: right;\n",
       "    }\n",
       "</style>\n",
       "<table border=\"1\" class=\"dataframe\">\n",
       "  <thead>\n",
       "    <tr style=\"text-align: right;\">\n",
       "      <th></th>\n",
       "      <th>URI</th>\n",
       "      <th>TOPIC</th>\n",
       "      <th>BODY_SUMMARY</th>\n",
       "      <th>FIRST_PREDICTION_CLASS</th>\n",
       "    </tr>\n",
       "  </thead>\n",
       "  <tbody>\n",
       "    <tr>\n",
       "      <th>0</th>\n",
       "      <td>7790305844</td>\n",
       "      <td>weather</td>\n",
       "      <td>Air Quality Index or AQI measures the concentr...</td>\n",
       "      <td>later reports of past transportation disruptio...</td>\n",
       "    </tr>\n",
       "    <tr>\n",
       "      <th>1</th>\n",
       "      <td>2023-10-125234841</td>\n",
       "      <td>warehouse_fire</td>\n",
       "      <td>Israeli military says it has bombed hundreds o...</td>\n",
       "      <td>leisure or other news</td>\n",
       "    </tr>\n",
       "  </tbody>\n",
       "</table>\n",
       "</div>"
      ],
      "text/plain": [
       "                 URI           TOPIC  \\\n",
       "0         7790305844         weather   \n",
       "1  2023-10-125234841  warehouse_fire   \n",
       "\n",
       "                                        BODY_SUMMARY  \\\n",
       "0  Air Quality Index or AQI measures the concentr...   \n",
       "1  Israeli military says it has bombed hundreds o...   \n",
       "\n",
       "                              FIRST_PREDICTION_CLASS  \n",
       "0  later reports of past transportation disruptio...  \n",
       "1                              leisure or other news  "
      ]
     },
     "execution_count": 5,
     "metadata": {},
     "output_type": "execute_result"
    }
   ],
   "source": [
    "# 1. Load the data to a dataframe and get necessary columns\n",
    "df_data = pd.read_csv('./sample_few_shot_data/consolidated_2023-10-24.csv')\n",
    "df_data.head(2)\n",
    "# assuming that the label column is \"FIRST_PREDICTION_CLASS\" - to be replaced later\n",
    "df = df_data[['URI', 'TOPIC', 'BODY_SUMMARY','FIRST_PREDICTION_CLASS']]\n",
    "df.head(2)"
   ]
  },
  {
   "cell_type": "code",
   "execution_count": 7,
   "metadata": {},
   "outputs": [
    {
     "data": {
      "text/html": [
       "<div>\n",
       "<style scoped>\n",
       "    .dataframe tbody tr th:only-of-type {\n",
       "        vertical-align: middle;\n",
       "    }\n",
       "\n",
       "    .dataframe tbody tr th {\n",
       "        vertical-align: top;\n",
       "    }\n",
       "\n",
       "    .dataframe thead th {\n",
       "        text-align: right;\n",
       "    }\n",
       "</style>\n",
       "<table border=\"1\" class=\"dataframe\">\n",
       "  <thead>\n",
       "    <tr style=\"text-align: right;\">\n",
       "      <th></th>\n",
       "      <th>URI</th>\n",
       "      <th>TOPIC</th>\n",
       "      <th>BODY_SUMMARY</th>\n",
       "      <th>CLASS_LABEL_general social, business, economic reports, studies and trends</th>\n",
       "      <th>CLASS_LABEL_later reports of past transportation disruption event, bad news</th>\n",
       "      <th>CLASS_LABEL_lawsuits, legal or insurance impact of past event, bad news</th>\n",
       "      <th>CLASS_LABEL_leisure or other news</th>\n",
       "      <th>CLASS_LABEL_very recent breaking news on forced labor and sweatshop</th>\n",
       "      <th>CLASS_LABEL_very recent breaking news on major air transportation or airport disruption, bad news</th>\n",
       "      <th>CLASS_LABEL_very recent breaking news on major and large scale worker strike actions causing disruption, bad news</th>\n",
       "      <th>CLASS_LABEL_very recent breaking news on major maritime transportation disruption, bad news</th>\n",
       "      <th>CLASS_LABEL_very recent breaking news on major railway transportation disruption, bad news</th>\n",
       "      <th>CLASS_LABEL_very recent breaking news on severe and extreme weather causing disruption, bad news</th>\n",
       "      <th>CLASS_LABEL_very recent breaking news on warehouse and storage facilities disruption or destruction, bad news</th>\n",
       "    </tr>\n",
       "  </thead>\n",
       "  <tbody>\n",
       "    <tr>\n",
       "      <th>0</th>\n",
       "      <td>7790305844</td>\n",
       "      <td>weather</td>\n",
       "      <td>Air Quality Index or AQI measures the concentr...</td>\n",
       "      <td>0</td>\n",
       "      <td>1</td>\n",
       "      <td>0</td>\n",
       "      <td>0</td>\n",
       "      <td>0</td>\n",
       "      <td>0</td>\n",
       "      <td>0</td>\n",
       "      <td>0</td>\n",
       "      <td>0</td>\n",
       "      <td>0</td>\n",
       "      <td>0</td>\n",
       "    </tr>\n",
       "    <tr>\n",
       "      <th>1</th>\n",
       "      <td>2023-10-125234841</td>\n",
       "      <td>warehouse_fire</td>\n",
       "      <td>Israeli military says it has bombed hundreds o...</td>\n",
       "      <td>0</td>\n",
       "      <td>0</td>\n",
       "      <td>0</td>\n",
       "      <td>1</td>\n",
       "      <td>0</td>\n",
       "      <td>0</td>\n",
       "      <td>0</td>\n",
       "      <td>0</td>\n",
       "      <td>0</td>\n",
       "      <td>0</td>\n",
       "      <td>0</td>\n",
       "    </tr>\n",
       "  </tbody>\n",
       "</table>\n",
       "</div>"
      ],
      "text/plain": [
       "                 URI           TOPIC  \\\n",
       "0         7790305844         weather   \n",
       "1  2023-10-125234841  warehouse_fire   \n",
       "\n",
       "                                        BODY_SUMMARY  \\\n",
       "0  Air Quality Index or AQI measures the concentr...   \n",
       "1  Israeli military says it has bombed hundreds o...   \n",
       "\n",
       "   CLASS_LABEL_general social, business, economic reports, studies and trends  \\\n",
       "0                                                  0                            \n",
       "1                                                  0                            \n",
       "\n",
       "   CLASS_LABEL_later reports of past transportation disruption event, bad news  \\\n",
       "0                                                  1                             \n",
       "1                                                  0                             \n",
       "\n",
       "   CLASS_LABEL_lawsuits, legal or insurance impact of past event, bad news  \\\n",
       "0                                                  0                         \n",
       "1                                                  0                         \n",
       "\n",
       "   CLASS_LABEL_leisure or other news  \\\n",
       "0                                  0   \n",
       "1                                  1   \n",
       "\n",
       "   CLASS_LABEL_very recent breaking news on forced labor and sweatshop  \\\n",
       "0                                                  0                     \n",
       "1                                                  0                     \n",
       "\n",
       "   CLASS_LABEL_very recent breaking news on major air transportation or airport disruption, bad news  \\\n",
       "0                                                  0                                                   \n",
       "1                                                  0                                                   \n",
       "\n",
       "   CLASS_LABEL_very recent breaking news on major and large scale worker strike actions causing disruption, bad news  \\\n",
       "0                                                  0                                                                   \n",
       "1                                                  0                                                                   \n",
       "\n",
       "   CLASS_LABEL_very recent breaking news on major maritime transportation disruption, bad news  \\\n",
       "0                                                  0                                             \n",
       "1                                                  0                                             \n",
       "\n",
       "   CLASS_LABEL_very recent breaking news on major railway transportation disruption, bad news  \\\n",
       "0                                                  0                                            \n",
       "1                                                  0                                            \n",
       "\n",
       "   CLASS_LABEL_very recent breaking news on severe and extreme weather causing disruption, bad news   \\\n",
       "0                                                  0                                                   \n",
       "1                                                  0                                                   \n",
       "\n",
       "   CLASS_LABEL_very recent breaking news on warehouse and storage facilities disruption or destruction, bad news  \n",
       "0                                                  0                                                              \n",
       "1                                                  0                                                              "
      ]
     },
     "execution_count": 7,
     "metadata": {},
     "output_type": "execute_result"
    }
   ],
   "source": [
    "# 2. convert the class label column to onehot format, with each class label occupying one column of [0,1] values\n",
    "onehot_df = pd.get_dummies(df, columns = ['FIRST_PREDICTION_CLASS'], prefix=\"CLASS_LABEL\", dtype=int) \n",
    "onehot_df.head(2)"
   ]
  },
  {
   "cell_type": "code",
   "execution_count": 9,
   "metadata": {},
   "outputs": [
    {
     "data": {
      "text/plain": [
       "{'URI': ['7790305844',\n",
       "  '2023-10-125234841',\n",
       "  '7790289556',\n",
       "  '2023-10-125242951',\n",
       "  '7790432248',\n",
       "  '7790329990',\n",
       "  '7790295159',\n",
       "  '7790356009',\n",
       "  '7790279927',\n",
       "  '7790341989'],\n",
       " 'TOPIC': ['weather',\n",
       "  'warehouse_fire',\n",
       "  'weather',\n",
       "  'train',\n",
       "  'weather',\n",
       "  'weather',\n",
       "  'train',\n",
       "  'train',\n",
       "  'train',\n",
       "  'weather'],\n",
       " 'BODY_SUMMARY': ['Air Quality Index or AQI measures the concentration of PM 2.5 levels. There are six AQI categories, namely Good Satisfactory, Moderately polluted, Poor, Very Poor, and Severe. The most affected areas have been Andheri, Mazgaon, Navi Mumbai where AQI remained beyond 300. The situation was such that due to fog on Wednesday, local trains on the main line of Mumbai suburban network ran late by 15 to 20 mi due to the fog.',\n",
       "  \"Israeli military says it has bombed hundreds of sites in Gaza over past 24 hours. Targets included command centres and tunnel shafts used by Hamas terror group. Civilian casualties continue to mount, with at least 12 killed in Khan Younis. This has heightened fears that nowhere is safe for more than two million Palestinians trapped inside the besieged territory. Doctors Without Borders has said hospitals are running out of electricity needed to run essential machinery, as well as medicine. Many among Gaza's 2.2 million residents have cut down to one meal a day and have been left to drink dirty water.\",\n",
       "  'Flintshire, Wrexham, Denbighshire, Conwy, Anglesey and Gwynedd affected. Met Office issued a yellow weather warning for rain for all of Friday and lasting until 06:00 BST on Saturday. Forecaster said fast flowing or deep floodwater was possible, causing travel disruption, flooded homes and businesses and power cuts. A more severe amber warning is in place for same period across the border in parts of Chester and Holt, the Met Office said.',\n",
       "  \"CCTV footage showed crowding reaching unacceptable levels. There were reports of minor injuries and the potential for more serious consequences. Network Rail had no recorded, risk-assessed plan for two pinch points where crowding is most concentrated. Some control measures that did exist were found to be inadequate. The ORR has issued an improvement notice to Network Rail in relation to the station. Euston was the UK's fifth busiest railway station in 2014. It is now trialling earlier boarding of services to help reduce crowding.\",\n",
       "  \"Sidney Powell entered her guilty plea in Fulton County Superior Court. She was one of 19 defendants charged by District Attorney Fani Willis in the indictment that also charged former President Donald Trump. Powell acted as one of Trump's lawyers after his 2020 election loss to Joe Biden, was charged with racketeering, conspiracy to commit election fraud, and conspiracy to defraud the state. The former Trump attorney pleaded guilty Thursday morning in the Georgia election interference case. The hearing is expected to last about two hours.\",\n",
       "  'The line of withdrawal of Southwest Monsoon continues to pass through Machilipatnam, Kurnool, Badami and Vengurla. Dry weather is expected to prevail over the remainder of the country. A low-pressure area lies over Southeast  adjoining Eastcentral Arabian Sea with its associated cyclonic circulation. It is likely to move west-northwestwards and become a well-marked low pressure area over Southwest during the next 24 hours and intensify into a Depression around October 21.',\n",
       "  'Close to two dozen trains are daily detained by Railways to ensure that the four Vande Bharat trains keep their schedule. The most notorious stretch where trains are detained is Ernakulam-Shoranur-Kayamkulam. The passengers on the trains operating during office hours such as Palaruvi Express and Venad Express are the most aggrieved lot. However, railway authorities have denied that trains are held up to make way for VB services. It is a normal practice, said railway sources.',\n",
       "  \"Trains of the Regional Rapid Transit System (RRTS) will be known as 'Namo Bharat', official sources said. The 17-km priority section of the Delhi-Ghaziabad-Meerut RRTS corridor is slated to be opened for passengers on October 21, a day after its inauguration. The RRTS is a new rail-based, semi-high-speed, high-frequency commuter transit system with a design speed of 180 kmph. It is designed to provide high-speed trains for intercity commuting every 15 minutes.\",\n",
       "  \"The major YOU.S. index futures are currently pointing to a roughly flat open on Thursday, with stocks likely to show a lack of direction after ending the previous session sharply lower. Traders may be reluctant to make significant moves ahead of remarks by Federal Reserve Chair Jerome Powell later this afternoon. Treasury yields are seeing further upside ahead of Powell's remarks, with the yield on the benchmark ten-year note climbing to a new sixteen-year high. The futures remained little changed following the release of a Labor Department report showing initial jobless claims unexpectedly declined to a nearly nine-month low in the week ended October 14th.\",\n",
       "  'A Marine has been apprehended in connection with the death of another marine at the Camp Lejeune base in North Carolina. The death unfolded in an on-base barracks room Wednesday, but no further details have been revealed about how the Marine died or their identity. But the YOU.S. Marines described it as a homicide. The suspect was arrested at 10:15 p.m. Further details will be provided as they become available, the You.s. Marines said. Camp LeJeune is a training facility in Onslow County in southeastern North Carolina, near Jacksonville.'],\n",
       " 'CLASS_LABEL_general social, business, economic reports, studies and trends': [0,\n",
       "  0,\n",
       "  0,\n",
       "  0,\n",
       "  0,\n",
       "  1,\n",
       "  0,\n",
       "  0,\n",
       "  0,\n",
       "  0],\n",
       " 'CLASS_LABEL_later reports of past transportation disruption event, bad news': [1,\n",
       "  0,\n",
       "  1,\n",
       "  1,\n",
       "  0,\n",
       "  0,\n",
       "  1,\n",
       "  0,\n",
       "  0,\n",
       "  0],\n",
       " 'CLASS_LABEL_lawsuits, legal or insurance impact of past event, bad news': [0,\n",
       "  0,\n",
       "  0,\n",
       "  0,\n",
       "  1,\n",
       "  0,\n",
       "  0,\n",
       "  0,\n",
       "  0,\n",
       "  0],\n",
       " 'CLASS_LABEL_leisure or other news': [0, 1, 0, 0, 0, 0, 0, 1, 1, 1],\n",
       " 'CLASS_LABEL_very recent breaking news on forced labor and sweatshop': [0,\n",
       "  0,\n",
       "  0,\n",
       "  0,\n",
       "  0,\n",
       "  0,\n",
       "  0,\n",
       "  0,\n",
       "  0,\n",
       "  0],\n",
       " 'CLASS_LABEL_very recent breaking news on major air transportation or airport disruption, bad news': [0,\n",
       "  0,\n",
       "  0,\n",
       "  0,\n",
       "  0,\n",
       "  0,\n",
       "  0,\n",
       "  0,\n",
       "  0,\n",
       "  0],\n",
       " 'CLASS_LABEL_very recent breaking news on major and large scale worker strike actions causing disruption, bad news': [0,\n",
       "  0,\n",
       "  0,\n",
       "  0,\n",
       "  0,\n",
       "  0,\n",
       "  0,\n",
       "  0,\n",
       "  0,\n",
       "  0],\n",
       " 'CLASS_LABEL_very recent breaking news on major maritime transportation disruption, bad news': [0,\n",
       "  0,\n",
       "  0,\n",
       "  0,\n",
       "  0,\n",
       "  0,\n",
       "  0,\n",
       "  0,\n",
       "  0,\n",
       "  0],\n",
       " 'CLASS_LABEL_very recent breaking news on major railway transportation disruption, bad news': [0,\n",
       "  0,\n",
       "  0,\n",
       "  0,\n",
       "  0,\n",
       "  0,\n",
       "  0,\n",
       "  0,\n",
       "  0,\n",
       "  0],\n",
       " 'CLASS_LABEL_very recent breaking news on severe and extreme weather causing disruption, bad news ': [0,\n",
       "  0,\n",
       "  0,\n",
       "  0,\n",
       "  0,\n",
       "  0,\n",
       "  0,\n",
       "  0,\n",
       "  0,\n",
       "  0],\n",
       " 'CLASS_LABEL_very recent breaking news on warehouse and storage facilities disruption or destruction, bad news': [0,\n",
       "  0,\n",
       "  0,\n",
       "  0,\n",
       "  0,\n",
       "  0,\n",
       "  0,\n",
       "  0,\n",
       "  0,\n",
       "  0]}"
      ]
     },
     "execution_count": 9,
     "metadata": {},
     "output_type": "execute_result"
    }
   ],
   "source": [
    "# 2. convert to 'list' type dictionary to meet Dataset requirement\n",
    "dict_data = onehot_df[:10].to_dict('list')\n",
    "dict_data"
   ]
  },
  {
   "cell_type": "code",
   "execution_count": 5,
   "metadata": {},
   "outputs": [
    {
     "name": "stdout",
     "output_type": "stream",
     "text": [
      "Dataset({\n",
      "    features: ['URI', 'TOPIC', 'BODY_SUMMARY', 'CLASS_LABEL_general social, business, economic reports, studies and trends', 'CLASS_LABEL_later reports of past transportation disruption event, bad news', 'CLASS_LABEL_lawsuits, legal or insurance impact of past event, bad news', 'CLASS_LABEL_leisure or other news', 'CLASS_LABEL_very recent breaking news on forced labor and sweatshop', 'CLASS_LABEL_very recent breaking news on major air transportation or airport disruption, bad news', 'CLASS_LABEL_very recent breaking news on major and large scale worker strike actions causing disruption, bad news', 'CLASS_LABEL_very recent breaking news on major maritime transportation disruption, bad news', 'CLASS_LABEL_very recent breaking news on major railway transportation disruption, bad news', 'CLASS_LABEL_very recent breaking news on severe and extreme weather causing disruption, bad news ', 'CLASS_LABEL_very recent breaking news on warehouse and storage facilities disruption or destruction, bad news'],\n",
      "    num_rows: 820\n",
      "})\n"
     ]
    },
    {
     "data": {
      "text/plain": [
       "{'URI': Value(dtype='string', id=None),\n",
       " 'TOPIC': Value(dtype='string', id=None),\n",
       " 'BODY_SUMMARY': Value(dtype='string', id=None),\n",
       " 'CLASS_LABEL_general social, business, economic reports, studies and trends': Value(dtype='int64', id=None),\n",
       " 'CLASS_LABEL_later reports of past transportation disruption event, bad news': Value(dtype='int64', id=None),\n",
       " 'CLASS_LABEL_lawsuits, legal or insurance impact of past event, bad news': Value(dtype='int64', id=None),\n",
       " 'CLASS_LABEL_leisure or other news': Value(dtype='int64', id=None),\n",
       " 'CLASS_LABEL_very recent breaking news on forced labor and sweatshop': Value(dtype='int64', id=None),\n",
       " 'CLASS_LABEL_very recent breaking news on major air transportation or airport disruption, bad news': Value(dtype='int64', id=None),\n",
       " 'CLASS_LABEL_very recent breaking news on major and large scale worker strike actions causing disruption, bad news': Value(dtype='int64', id=None),\n",
       " 'CLASS_LABEL_very recent breaking news on major maritime transportation disruption, bad news': Value(dtype='int64', id=None),\n",
       " 'CLASS_LABEL_very recent breaking news on major railway transportation disruption, bad news': Value(dtype='int64', id=None),\n",
       " 'CLASS_LABEL_very recent breaking news on severe and extreme weather causing disruption, bad news ': Value(dtype='int64', id=None),\n",
       " 'CLASS_LABEL_very recent breaking news on warehouse and storage facilities disruption or destruction, bad news': Value(dtype='int64', id=None)}"
      ]
     },
     "execution_count": 5,
     "metadata": {},
     "output_type": "execute_result"
    }
   ],
   "source": [
    "# 3. create a dataset object\n",
    "ds = Dataset.from_dict(dict_data)\n",
    "print(ds)\n",
    "\n",
    "# by default, all columns are of \"Value\" type, i.e., X_data\n",
    "ds.features"
   ]
  },
  {
   "cell_type": "code",
   "execution_count": 6,
   "metadata": {},
   "outputs": [
    {
     "data": {
      "text/plain": [
       "['CLASS_LABEL_general social, business, economic reports, studies and trends',\n",
       " 'CLASS_LABEL_later reports of past transportation disruption event, bad news',\n",
       " 'CLASS_LABEL_lawsuits, legal or insurance impact of past event, bad news',\n",
       " 'CLASS_LABEL_leisure or other news',\n",
       " 'CLASS_LABEL_very recent breaking news on forced labor and sweatshop',\n",
       " 'CLASS_LABEL_very recent breaking news on major air transportation or airport disruption, bad news',\n",
       " 'CLASS_LABEL_very recent breaking news on major and large scale worker strike actions causing disruption, bad news',\n",
       " 'CLASS_LABEL_very recent breaking news on major maritime transportation disruption, bad news',\n",
       " 'CLASS_LABEL_very recent breaking news on major railway transportation disruption, bad news',\n",
       " 'CLASS_LABEL_very recent breaking news on severe and extreme weather causing disruption, bad news ',\n",
       " 'CLASS_LABEL_very recent breaking news on warehouse and storage facilities disruption or destruction, bad news']"
      ]
     },
     "execution_count": 6,
     "metadata": {},
     "output_type": "execute_result"
    }
   ],
   "source": [
    "# getting the label feature column names:\n",
    "label_features = [feature for feature in ds.features if feature not in ['URI','TOPIC', 'BODY_SUMMARY']]\n",
    "label_features "
   ]
  },
  {
   "cell_type": "code",
   "execution_count": 7,
   "metadata": {},
   "outputs": [
    {
     "data": {
      "application/vnd.jupyter.widget-view+json": {
       "model_id": "042d17e1e980460aa87fb3907d8def7a",
       "version_major": 2,
       "version_minor": 0
      },
      "text/plain": [
       "Casting the dataset:   0%|          | 0/820 [00:00<?, ? examples/s]"
      ]
     },
     "metadata": {},
     "output_type": "display_data"
    },
    {
     "data": {
      "text/plain": [
       "{'URI': Value(dtype='string', id=None),\n",
       " 'TOPIC': Value(dtype='string', id=None),\n",
       " 'BODY_SUMMARY': Value(dtype='string', id=None),\n",
       " 'CLASS_LABEL_general social, business, economic reports, studies and trends': ClassLabel(names=['0', '1'], id=None),\n",
       " 'CLASS_LABEL_later reports of past transportation disruption event, bad news': ClassLabel(names=['0', '1'], id=None),\n",
       " 'CLASS_LABEL_lawsuits, legal or insurance impact of past event, bad news': ClassLabel(names=['0', '1'], id=None),\n",
       " 'CLASS_LABEL_leisure or other news': ClassLabel(names=['0', '1'], id=None),\n",
       " 'CLASS_LABEL_very recent breaking news on forced labor and sweatshop': ClassLabel(names=['0', '1'], id=None),\n",
       " 'CLASS_LABEL_very recent breaking news on major air transportation or airport disruption, bad news': ClassLabel(names=['0', '1'], id=None),\n",
       " 'CLASS_LABEL_very recent breaking news on major and large scale worker strike actions causing disruption, bad news': ClassLabel(names=['0', '1'], id=None),\n",
       " 'CLASS_LABEL_very recent breaking news on major maritime transportation disruption, bad news': ClassLabel(names=['0', '1'], id=None),\n",
       " 'CLASS_LABEL_very recent breaking news on major railway transportation disruption, bad news': ClassLabel(names=['0', '1'], id=None),\n",
       " 'CLASS_LABEL_very recent breaking news on severe and extreme weather causing disruption, bad news ': ClassLabel(names=['0', '1'], id=None),\n",
       " 'CLASS_LABEL_very recent breaking news on warehouse and storage facilities disruption or destruction, bad news': ClassLabel(names=['0', '1'], id=None)}"
      ]
     },
     "execution_count": 7,
     "metadata": {},
     "output_type": "execute_result"
    }
   ],
   "source": [
    "# we can cast the label column to the correct type:\n",
    "# IMPORTANT: if names= is specified, the order of the names matter \n",
    "from datasets import ClassLabel\n",
    "# ds = ds.cast_column(\"RELEVANCE_CLASS\", ClassLabel(num_classes=2,\n",
    "#                                                   names=['NOT RELEVANT', 'RELEVANT']))\n",
    "# ds.features\n",
    "\n",
    "\n",
    "new_features = ds.features.copy()\n",
    "for label_feature in label_features:\n",
    "    new_features[label_feature] = ClassLabel(num_classes=2)\n",
    "ds = ds.cast(new_features)\n",
    "ds.features"
   ]
  },
  {
   "cell_type": "code",
   "execution_count": 65,
   "metadata": {},
   "outputs": [
    {
     "data": {
      "text/plain": [
       "{'names': ['0', '1'],\n",
       " 'id': None,\n",
       " 'num_classes': 2,\n",
       " 'names_file': None,\n",
       " '_int2str': ['0', '1'],\n",
       " '_str2int': {'0': 0, '1': 1}}"
      ]
     },
     "execution_count": 65,
     "metadata": {},
     "output_type": "execute_result"
    }
   ],
   "source": [
    "ds.features['CLASS_LABEL_general social, business, economic reports, studies and trends'].__dict__"
   ]
  },
  {
   "cell_type": "code",
   "execution_count": 43,
   "metadata": {},
   "outputs": [
    {
     "data": {
      "text/plain": [
       "DatasetDict({\n",
       "    train: Dataset({\n",
       "        features: ['URI', 'TOPIC', 'BODY_SUMMARY', 'RELEVANCE_CLASS'],\n",
       "        num_rows: 96\n",
       "    })\n",
       "    test: Dataset({\n",
       "        features: ['URI', 'TOPIC', 'BODY_SUMMARY', 'RELEVANCE_CLASS'],\n",
       "        num_rows: 24\n",
       "    })\n",
       "})"
      ]
     },
     "execution_count": 43,
     "metadata": {},
     "output_type": "execute_result"
    }
   ],
   "source": [
    "# the ds can be split if the stratify column is a ClassLabel column only\n",
    "# ds = ds.train_test_split(test_size=0.2, shuffle=True, seed=99, stratify_by_column='RELEVANCE_CLASS')\n",
    "# ds"
   ]
  },
  {
   "cell_type": "code",
   "execution_count": 8,
   "metadata": {},
   "outputs": [
    {
     "data": {
      "application/vnd.jupyter.widget-view+json": {
       "model_id": "a0479e0014414553977aaa7772a83696",
       "version_major": 2,
       "version_minor": 0
      },
      "text/plain": [
       "Saving the dataset (0/1 shards):   0%|          | 0/820 [00:00<?, ? examples/s]"
      ]
     },
     "metadata": {},
     "output_type": "display_data"
    }
   ],
   "source": [
    "# we can save to disk and reload later\n",
    "ds.save_to_disk('./custom_datasets/sample_dataset')"
   ]
  },
  {
   "cell_type": "code",
   "execution_count": 9,
   "metadata": {},
   "outputs": [
    {
     "data": {
      "text/plain": [
       "Dataset({\n",
       "    features: ['URI', 'TOPIC', 'BODY_SUMMARY', 'CLASS_LABEL_general social, business, economic reports, studies and trends', 'CLASS_LABEL_later reports of past transportation disruption event, bad news', 'CLASS_LABEL_lawsuits, legal or insurance impact of past event, bad news', 'CLASS_LABEL_leisure or other news', 'CLASS_LABEL_very recent breaking news on forced labor and sweatshop', 'CLASS_LABEL_very recent breaking news on major air transportation or airport disruption, bad news', 'CLASS_LABEL_very recent breaking news on major and large scale worker strike actions causing disruption, bad news', 'CLASS_LABEL_very recent breaking news on major maritime transportation disruption, bad news', 'CLASS_LABEL_very recent breaking news on major railway transportation disruption, bad news', 'CLASS_LABEL_very recent breaking news on severe and extreme weather causing disruption, bad news ', 'CLASS_LABEL_very recent breaking news on warehouse and storage facilities disruption or destruction, bad news'],\n",
       "    num_rows: 820\n",
       "})"
      ]
     },
     "execution_count": 9,
     "metadata": {},
     "output_type": "execute_result"
    }
   ],
   "source": [
    "# loading from disk\n",
    "from datasets import load_from_disk\n",
    "reloaded_dataset = load_from_disk(\"./custom_datasets/sample_dataset\")\n",
    "reloaded_dataset"
   ]
  }
 ],
 "metadata": {
  "kernelspec": {
   "display_name": "venv",
   "language": "python",
   "name": "python3"
  },
  "language_info": {
   "codemirror_mode": {
    "name": "ipython",
    "version": 3
   },
   "file_extension": ".py",
   "mimetype": "text/x-python",
   "name": "python",
   "nbconvert_exporter": "python",
   "pygments_lexer": "ipython3",
   "version": "3.10.11"
  },
  "orig_nbformat": 4,
  "vscode": {
   "interpreter": {
    "hash": "286bc12fa30b74ef856228bed3e3c37bde5be697e37af5195e71bc249a2a5043"
   }
  }
 },
 "nbformat": 4,
 "nbformat_minor": 2
}
