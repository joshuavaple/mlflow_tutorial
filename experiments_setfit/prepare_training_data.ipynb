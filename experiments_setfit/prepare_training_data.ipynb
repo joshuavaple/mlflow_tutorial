{
 "cells": [
  {
   "cell_type": "code",
   "execution_count": 1,
   "metadata": {},
   "outputs": [],
   "source": [
    "import pandas as pd\n",
    "from transformers import pipeline\n",
    "from tqdm import tqdm\n",
    "tqdm.pandas()"
   ]
  },
  {
   "cell_type": "code",
   "execution_count": 2,
   "metadata": {},
   "outputs": [],
   "source": [
    "def zero_shot_predict_single_model(classifier, sequence_to_classify: str, candidate_labels: list):\n",
    "    try:\n",
    "        predictions = classifier(sequence_to_classify, candidate_labels)\n",
    "        result = {predictions['labels'][i]: predictions['scores'][i] for i in range(len(predictions['labels']))}\n",
    "        return result\n",
    "    except Exception as e:\n",
    "        print(\"The following error occured, returned empty string\")\n",
    "        print(e)\n",
    "        return {}"
   ]
  },
  {
   "cell_type": "code",
   "execution_count": 3,
   "metadata": {},
   "outputs": [],
   "source": [
    "data_all = pd.read_excel('../temp_training/medallion/gold/gold_COMBINED.xlsx')"
   ]
  },
  {
   "cell_type": "code",
   "execution_count": 9,
   "metadata": {},
   "outputs": [
    {
     "data": {
      "text/html": [
       "<div>\n",
       "<style scoped>\n",
       "    .dataframe tbody tr th:only-of-type {\n",
       "        vertical-align: middle;\n",
       "    }\n",
       "\n",
       "    .dataframe tbody tr th {\n",
       "        vertical-align: top;\n",
       "    }\n",
       "\n",
       "    .dataframe thead th {\n",
       "        text-align: right;\n",
       "    }\n",
       "</style>\n",
       "<table border=\"1\" class=\"dataframe\">\n",
       "  <thead>\n",
       "    <tr style=\"text-align: right;\">\n",
       "      <th></th>\n",
       "      <th>URI</th>\n",
       "      <th>TOPIC</th>\n",
       "      <th>TITLE</th>\n",
       "      <th>TEXT</th>\n",
       "      <th>RELEVANCE_CLASS</th>\n",
       "    </tr>\n",
       "  </thead>\n",
       "  <tbody>\n",
       "    <tr>\n",
       "      <th>0</th>\n",
       "      <td>7501230662</td>\n",
       "      <td>warehouse_fire</td>\n",
       "      <td>Fire destroys Sangre Grande block factory, house</td>\n",
       "      <td>Fire destroyed a block factory in Sangre Grand...</td>\n",
       "      <td>1</td>\n",
       "    </tr>\n",
       "    <tr>\n",
       "      <th>1</th>\n",
       "      <td>7501230662</td>\n",
       "      <td>warehouse_fire</td>\n",
       "      <td>Fire destroys Sangre Grande block factory, house</td>\n",
       "      <td>Losses were said to be millions of dollars</td>\n",
       "      <td>1</td>\n",
       "    </tr>\n",
       "    <tr>\n",
       "      <th>2</th>\n",
       "      <td>7501230662</td>\n",
       "      <td>warehouse_fire</td>\n",
       "      <td>Fire destroys Sangre Grande block factory, house</td>\n",
       "      <td>Owner of the Pallet and Brick Factory claimed ...</td>\n",
       "      <td>1</td>\n",
       "    </tr>\n",
       "    <tr>\n",
       "      <th>3</th>\n",
       "      <td>7501230662</td>\n",
       "      <td>warehouse_fire</td>\n",
       "      <td>Fire destroys Sangre Grande block factory, house</td>\n",
       "      <td>He said by the time the fire officers arrived ...</td>\n",
       "      <td>1</td>\n",
       "    </tr>\n",
       "    <tr>\n",
       "      <th>4</th>\n",
       "      <td>7501230662</td>\n",
       "      <td>warehouse_fire</td>\n",
       "      <td>Fire destroys Sangre Grande block factory, house</td>\n",
       "      <td>However, the officers contained the fire from ...</td>\n",
       "      <td>1</td>\n",
       "    </tr>\n",
       "    <tr>\n",
       "      <th>...</th>\n",
       "      <td>...</td>\n",
       "      <td>...</td>\n",
       "      <td>...</td>\n",
       "      <td>...</td>\n",
       "      <td>...</td>\n",
       "    </tr>\n",
       "    <tr>\n",
       "      <th>14498</th>\n",
       "      <td>7397746307</td>\n",
       "      <td>air</td>\n",
       "      <td>Auckland Airport warns worst is yet to come, 4...</td>\n",
       "      <td>Airline is now focusing its efforts on getting...</td>\n",
       "      <td>1</td>\n",
       "    </tr>\n",
       "    <tr>\n",
       "      <th>14499</th>\n",
       "      <td>7397668836</td>\n",
       "      <td>protest_riot</td>\n",
       "      <td>Residents mark anniversary of 'Freedom Convoy'...</td>\n",
       "      <td>A small group of Ottawa residents marked a fla...</td>\n",
       "      <td>0</td>\n",
       "    </tr>\n",
       "    <tr>\n",
       "      <th>14500</th>\n",
       "      <td>7397668836</td>\n",
       "      <td>protest_riot</td>\n",
       "      <td>Residents mark anniversary of 'Freedom Convoy'...</td>\n",
       "      <td>Dubbed the Battle of Billings Bridge, the coun...</td>\n",
       "      <td>0</td>\n",
       "    </tr>\n",
       "    <tr>\n",
       "      <th>14501</th>\n",
       "      <td>7397668836</td>\n",
       "      <td>protest_riot</td>\n",
       "      <td>Residents mark anniversary of 'Freedom Convoy'...</td>\n",
       "      <td>Citizens blocked the intersection for hours</td>\n",
       "      <td>0</td>\n",
       "    </tr>\n",
       "    <tr>\n",
       "      <th>14502</th>\n",
       "      <td>7397668836</td>\n",
       "      <td>protest_riot</td>\n",
       "      <td>Residents mark anniversary of 'Freedom Convoy'...</td>\n",
       "      <td>The pro-convoy drivers were eventually allowed...</td>\n",
       "      <td>0</td>\n",
       "    </tr>\n",
       "  </tbody>\n",
       "</table>\n",
       "<p>14503 rows × 5 columns</p>\n",
       "</div>"
      ],
      "text/plain": [
       "              URI           TOPIC  \\\n",
       "0      7501230662  warehouse_fire   \n",
       "1      7501230662  warehouse_fire   \n",
       "2      7501230662  warehouse_fire   \n",
       "3      7501230662  warehouse_fire   \n",
       "4      7501230662  warehouse_fire   \n",
       "...           ...             ...   \n",
       "14498  7397746307             air   \n",
       "14499  7397668836    protest_riot   \n",
       "14500  7397668836    protest_riot   \n",
       "14501  7397668836    protest_riot   \n",
       "14502  7397668836    protest_riot   \n",
       "\n",
       "                                                   TITLE  \\\n",
       "0       Fire destroys Sangre Grande block factory, house   \n",
       "1       Fire destroys Sangre Grande block factory, house   \n",
       "2       Fire destroys Sangre Grande block factory, house   \n",
       "3       Fire destroys Sangre Grande block factory, house   \n",
       "4       Fire destroys Sangre Grande block factory, house   \n",
       "...                                                  ...   \n",
       "14498  Auckland Airport warns worst is yet to come, 4...   \n",
       "14499  Residents mark anniversary of 'Freedom Convoy'...   \n",
       "14500  Residents mark anniversary of 'Freedom Convoy'...   \n",
       "14501  Residents mark anniversary of 'Freedom Convoy'...   \n",
       "14502  Residents mark anniversary of 'Freedom Convoy'...   \n",
       "\n",
       "                                                    TEXT  RELEVANCE_CLASS  \n",
       "0      Fire destroyed a block factory in Sangre Grand...                1  \n",
       "1             Losses were said to be millions of dollars                1  \n",
       "2      Owner of the Pallet and Brick Factory claimed ...                1  \n",
       "3      He said by the time the fire officers arrived ...                1  \n",
       "4      However, the officers contained the fire from ...                1  \n",
       "...                                                  ...              ...  \n",
       "14498  Airline is now focusing its efforts on getting...                1  \n",
       "14499  A small group of Ottawa residents marked a fla...                0  \n",
       "14500  Dubbed the Battle of Billings Bridge, the coun...                0  \n",
       "14501        Citizens blocked the intersection for hours                0  \n",
       "14502  The pro-convoy drivers were eventually allowed...                0  \n",
       "\n",
       "[14503 rows x 5 columns]"
      ]
     },
     "execution_count": 9,
     "metadata": {},
     "output_type": "execute_result"
    }
   ],
   "source": [
    "data_sample = data_all.copy(deep=True)\n",
    "retained_columns = ['URI', 'TOPIC', 'TITLE', 'TEXT', 'RELEVANCE_CLASS']\n",
    "data_sample['TEXT'] = data_sample['BODY_SUMMARY'] # COMBINING title and body texts\n",
    "data_sample['TEXT'] = data_sample['TEXT'].apply(lambda x: x.split('. ')) # split to sentences\n",
    "# Explode the list of sentences into separate rows, duplicating values in other columns\n",
    "data_sample_long = data_sample.explode('TEXT').reset_index(drop=True)\n",
    "df_result = data_sample_long[retained_columns]\n",
    "df_result"
   ]
  },
  {
   "cell_type": "code",
   "execution_count": 10,
   "metadata": {},
   "outputs": [],
   "source": [
    "df_result.to_csv('gold_COMBINED_sentences_body_summary.csv')"
   ]
  },
  {
   "cell_type": "code",
   "execution_count": 10,
   "metadata": {},
   "outputs": [],
   "source": [
    "df_sample = df_result.sample(100)"
   ]
  },
  {
   "cell_type": "code",
   "execution_count": 11,
   "metadata": {},
   "outputs": [
    {
     "name": "stdout",
     "output_type": "stream",
     "text": [
      "Loading class specifications...\n",
      "Loading pretrained model...\n"
     ]
    },
    {
     "name": "stderr",
     "output_type": "stream",
     "text": [
      "Special tokens have been added in the vocabulary, make sure the associated word embeddings are fine-tuned or trained.\n"
     ]
    },
    {
     "name": "stdout",
     "output_type": "stream",
     "text": [
      "Predicting...\n"
     ]
    },
    {
     "name": "stderr",
     "output_type": "stream",
     "text": [
      "100%|██████████| 100/100 [14:47<00:00,  8.88s/it]\n"
     ]
    }
   ],
   "source": [
    "# 1. Load class specifications and gold data:\n",
    "print(\"Loading class specifications...\")\n",
    "class_labels_data_path = '../data/input/class_label_by_topic_v1.0.csv'\n",
    "class_labels_data = pd.read_csv(class_labels_data_path)\n",
    "candidate_labels = list(class_labels_data['CLASS_DESCRIPTION'])\n",
    "class_labels_df = class_labels_data.set_index('CLASS_DESCRIPTION')\n",
    "class_labels_dict = class_labels_df.to_dict(orient='index')\n",
    "\n",
    "# 2. Load pretrained model\n",
    "print(\"Loading pretrained model...\")\n",
    "model_path = '../models/pretrained/bart-large-mnli/'\n",
    "loaded_classifier = pipeline(\"zero-shot-classification\", model=model_path)\n",
    "\n",
    "# prediction on title + body summary.\n",
    "print(\"Predicting...\")\n",
    "df_sample['PREDICTIONS'] = df_sample.progress_apply(lambda row: \n",
    "                                                zero_shot_predict_single_model(\n",
    "                                                    classifier=loaded_classifier, \n",
    "                                                    sequence_to_classify=(row['TEXT']), \n",
    "                                                    candidate_labels=candidate_labels), \n",
    "                                                    axis=1)"
   ]
  },
  {
   "cell_type": "code",
   "execution_count": 12,
   "metadata": {},
   "outputs": [],
   "source": [
    "df_sample.to_excel('sample.xlsx')"
   ]
  }
 ],
 "metadata": {
  "kernelspec": {
   "display_name": "venv",
   "language": "python",
   "name": "python3"
  },
  "language_info": {
   "codemirror_mode": {
    "name": "ipython",
    "version": 3
   },
   "file_extension": ".py",
   "mimetype": "text/x-python",
   "name": "python",
   "nbconvert_exporter": "python",
   "pygments_lexer": "ipython3",
   "version": "3.10.11 (tags/v3.10.11:7d4cc5a, Apr  5 2023, 00:38:17) [MSC v.1929 64 bit (AMD64)]"
  },
  "orig_nbformat": 4,
  "vscode": {
   "interpreter": {
    "hash": "286bc12fa30b74ef856228bed3e3c37bde5be697e37af5195e71bc249a2a5043"
   }
  }
 },
 "nbformat": 4,
 "nbformat_minor": 2
}
