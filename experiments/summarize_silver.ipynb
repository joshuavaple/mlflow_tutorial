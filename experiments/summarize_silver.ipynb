{
 "cells": [
  {
   "cell_type": "code",
   "execution_count": 26,
   "metadata": {},
   "outputs": [],
   "source": [
    "import pandas as pd\n",
    "from transformers import pipeline\n",
    "from tqdm.notebook import tqdm\n",
    "import numpy as np\n",
    "tqdm.pandas()"
   ]
  },
  {
   "cell_type": "code",
   "execution_count": 27,
   "metadata": {},
   "outputs": [],
   "source": [
    "def summarize_with_error_handling(summarization_pipeline, input_text, max_char:int):\n",
    "    try:\n",
    "        return summarization_pipeline(input_text[:max_char], max_length=200, min_length=100, do_sample=False)[0]['summary_text']\n",
    "    except Exception as e:\n",
    "        print(\"The following error occured, returned empty string\")\n",
    "        print(e)\n",
    "        return \"\""
   ]
  },
  {
   "cell_type": "code",
   "execution_count": 28,
   "metadata": {},
   "outputs": [
    {
     "name": "stdout",
     "output_type": "stream",
     "text": [
      "Index(['INSERT_DATETIME', 'URI', 'TOPIC', 'TOPIC_URI', 'TITLE', 'BODY', 'URL',\n",
      "       'RELEVANCE_CLASS'],\n",
      "      dtype='object')\n",
      "TOPIC\n",
      "air                     169\n",
      "marine                  301\n",
      "material                121\n",
      "protest_riot            460\n",
      "road                     22\n",
      "strike                  179\n",
      "train                   201\n",
      "warehouse_fire          213\n",
      "weather_cyclone          13\n",
      "weather_generalnews     215\n",
      "weather_naturalevent    199\n",
      "dtype: int64\n",
      "RELEVANCE_CLASS\n",
      "0    1404\n",
      "1     689\n",
      "dtype: int64\n"
     ]
    }
   ],
   "source": [
    "data_silver = pd.read_csv('../temp_training/medallion/silver_2023-10-06_02-39-12.csv')\n",
    "print(data_silver.columns)\n",
    "print(data_silver.groupby(['TOPIC']).size())\n",
    "print(data_silver.groupby(['RELEVANCE_CLASS']).size())\n",
    "# print(data_silver.groupby(['ARTICLE_HIERARCHY']).size())"
   ]
  },
  {
   "cell_type": "code",
   "execution_count": 29,
   "metadata": {},
   "outputs": [],
   "source": [
    "# check which articles have been summarized from yesterday run\n",
    "# and exclude them from today's run\n",
    "import os\n",
    "import pandas as pd\n",
    "\n",
    "root_dir = './chunk_summary_output'\n",
    "os.listdir(root_dir)\n",
    "df_list = []\n",
    "for file_name in os.listdir(root_dir):\n",
    "    file_path = os.path.join(root_dir, file_name)\n",
    "    df_chunk = pd.read_csv(file_path)\n",
    "    df_list.append(df_chunk)\n",
    "df_combined = pd.concat(df_list)"
   ]
  },
  {
   "cell_type": "code",
   "execution_count": 30,
   "metadata": {},
   "outputs": [
    {
     "name": "stdout",
     "output_type": "stream",
     "text": [
      "total data size: (2093, 8)\n",
      "summarized data size: (1350, 9)\n",
      "remaining data: (743, 8)\n"
     ]
    }
   ],
   "source": [
    "# sample_df = data_silver.sample(n=5, random_state=1)\n",
    "# sample_df = data_silver.copy(deep=True)\n",
    "sample_df = data_silver[~data_silver['URI'].isin(df_combined['URI'])]\n",
    "print(f\"total data size: {data_silver.shape}\")\n",
    "print(f\"summarized data size: {df_combined.shape}\")\n",
    "print(f\"remaining data: {sample_df.shape}\")\n"
   ]
  },
  {
   "cell_type": "code",
   "execution_count": 31,
   "metadata": {},
   "outputs": [
    {
     "name": "stderr",
     "output_type": "stream",
     "text": [
      "Special tokens have been added in the vocabulary, make sure the associated word embeddings are fine-tuned or trained.\n"
     ]
    }
   ],
   "source": [
    "loaded_summarizer = pipeline(\"summarization\", model='../models/pretrained/bart-large-cnn/')"
   ]
  },
  {
   "cell_type": "code",
   "execution_count": 32,
   "metadata": {},
   "outputs": [
    {
     "data": {
      "application/vnd.jupyter.widget-view+json": {
       "model_id": "cd0ee98e06dd4897a8ed9e83a113951e",
       "version_major": 2,
       "version_minor": 0
      },
      "text/plain": [
       "  0%|          | 0/15 [00:00<?, ?it/s]"
      ]
     },
     "metadata": {},
     "output_type": "display_data"
    },
    {
     "data": {
      "application/vnd.jupyter.widget-view+json": {
       "model_id": "1f622324fd34437ab648e87ee5f6804b",
       "version_major": 2,
       "version_minor": 0
      },
      "text/plain": [
       "  0%|          | 0/50 [00:00<?, ?it/s]"
      ]
     },
     "metadata": {},
     "output_type": "display_data"
    },
    {
     "name": "stderr",
     "output_type": "stream",
     "text": [
      "Your max_length is set to 200, but your input_length is only 189. Since this is a summarization task, where outputs shorter than the input are typically wanted, you might consider decreasing max_length manually, e.g. summarizer('...', max_length=94)\n",
      "Your max_length is set to 200, but your input_length is only 158. Since this is a summarization task, where outputs shorter than the input are typically wanted, you might consider decreasing max_length manually, e.g. summarizer('...', max_length=79)\n",
      "Your max_length is set to 200, but your input_length is only 156. Since this is a summarization task, where outputs shorter than the input are typically wanted, you might consider decreasing max_length manually, e.g. summarizer('...', max_length=78)\n",
      "Your max_length is set to 200, but your input_length is only 138. Since this is a summarization task, where outputs shorter than the input are typically wanted, you might consider decreasing max_length manually, e.g. summarizer('...', max_length=69)\n",
      "Your max_length is set to 200, but your input_length is only 136. Since this is a summarization task, where outputs shorter than the input are typically wanted, you might consider decreasing max_length manually, e.g. summarizer('...', max_length=68)\n"
     ]
    },
    {
     "data": {
      "application/vnd.jupyter.widget-view+json": {
       "model_id": "965c0ec70beb4dde898a180a683eda6c",
       "version_major": 2,
       "version_minor": 0
      },
      "text/plain": [
       "  0%|          | 0/50 [00:00<?, ?it/s]"
      ]
     },
     "metadata": {},
     "output_type": "display_data"
    },
    {
     "name": "stderr",
     "output_type": "stream",
     "text": [
      "Your max_length is set to 200, but your input_length is only 189. Since this is a summarization task, where outputs shorter than the input are typically wanted, you might consider decreasing max_length manually, e.g. summarizer('...', max_length=94)\n",
      "Your max_length is set to 200, but your input_length is only 147. Since this is a summarization task, where outputs shorter than the input are typically wanted, you might consider decreasing max_length manually, e.g. summarizer('...', max_length=73)\n"
     ]
    },
    {
     "data": {
      "application/vnd.jupyter.widget-view+json": {
       "model_id": "447bcf4e66824c3bbf76a74a3d60437d",
       "version_major": 2,
       "version_minor": 0
      },
      "text/plain": [
       "  0%|          | 0/50 [00:00<?, ?it/s]"
      ]
     },
     "metadata": {},
     "output_type": "display_data"
    },
    {
     "name": "stderr",
     "output_type": "stream",
     "text": [
      "Your max_length is set to 200, but your input_length is only 191. Since this is a summarization task, where outputs shorter than the input are typically wanted, you might consider decreasing max_length manually, e.g. summarizer('...', max_length=95)\n",
      "Your max_length is set to 200, but your input_length is only 195. Since this is a summarization task, where outputs shorter than the input are typically wanted, you might consider decreasing max_length manually, e.g. summarizer('...', max_length=97)\n"
     ]
    },
    {
     "data": {
      "application/vnd.jupyter.widget-view+json": {
       "model_id": "701eae49efa143708f2aad21801b7737",
       "version_major": 2,
       "version_minor": 0
      },
      "text/plain": [
       "  0%|          | 0/50 [00:00<?, ?it/s]"
      ]
     },
     "metadata": {},
     "output_type": "display_data"
    },
    {
     "name": "stderr",
     "output_type": "stream",
     "text": [
      "Your max_length is set to 200, but your input_length is only 183. Since this is a summarization task, where outputs shorter than the input are typically wanted, you might consider decreasing max_length manually, e.g. summarizer('...', max_length=91)\n",
      "Your max_length is set to 200, but your input_length is only 112. Since this is a summarization task, where outputs shorter than the input are typically wanted, you might consider decreasing max_length manually, e.g. summarizer('...', max_length=56)\n"
     ]
    },
    {
     "data": {
      "application/vnd.jupyter.widget-view+json": {
       "model_id": "b926e53286124dc890bd9272e56ff2bd",
       "version_major": 2,
       "version_minor": 0
      },
      "text/plain": [
       "  0%|          | 0/50 [00:00<?, ?it/s]"
      ]
     },
     "metadata": {},
     "output_type": "display_data"
    },
    {
     "name": "stderr",
     "output_type": "stream",
     "text": [
      "Your max_length is set to 200, but your input_length is only 175. Since this is a summarization task, where outputs shorter than the input are typically wanted, you might consider decreasing max_length manually, e.g. summarizer('...', max_length=87)\n",
      "Your max_length is set to 200, but your input_length is only 148. Since this is a summarization task, where outputs shorter than the input are typically wanted, you might consider decreasing max_length manually, e.g. summarizer('...', max_length=74)\n",
      "Your max_length is set to 200, but your input_length is only 111. Since this is a summarization task, where outputs shorter than the input are typically wanted, you might consider decreasing max_length manually, e.g. summarizer('...', max_length=55)\n"
     ]
    },
    {
     "data": {
      "application/vnd.jupyter.widget-view+json": {
       "model_id": "6fcd17b39c0040df8437927c6b36e2de",
       "version_major": 2,
       "version_minor": 0
      },
      "text/plain": [
       "  0%|          | 0/50 [00:00<?, ?it/s]"
      ]
     },
     "metadata": {},
     "output_type": "display_data"
    },
    {
     "name": "stderr",
     "output_type": "stream",
     "text": [
      "Your max_length is set to 200, but your input_length is only 180. Since this is a summarization task, where outputs shorter than the input are typically wanted, you might consider decreasing max_length manually, e.g. summarizer('...', max_length=90)\n",
      "Your max_length is set to 200, but your input_length is only 160. Since this is a summarization task, where outputs shorter than the input are typically wanted, you might consider decreasing max_length manually, e.g. summarizer('...', max_length=80)\n"
     ]
    },
    {
     "data": {
      "application/vnd.jupyter.widget-view+json": {
       "model_id": "0fef6a3ddbab4c6dba624a807a3bb054",
       "version_major": 2,
       "version_minor": 0
      },
      "text/plain": [
       "  0%|          | 0/50 [00:00<?, ?it/s]"
      ]
     },
     "metadata": {},
     "output_type": "display_data"
    },
    {
     "name": "stderr",
     "output_type": "stream",
     "text": [
      "Your max_length is set to 200, but your input_length is only 115. Since this is a summarization task, where outputs shorter than the input are typically wanted, you might consider decreasing max_length manually, e.g. summarizer('...', max_length=57)\n"
     ]
    },
    {
     "data": {
      "application/vnd.jupyter.widget-view+json": {
       "model_id": "fe127dc8ab0846369cf2eeb5a978f0a1",
       "version_major": 2,
       "version_minor": 0
      },
      "text/plain": [
       "  0%|          | 0/50 [00:00<?, ?it/s]"
      ]
     },
     "metadata": {},
     "output_type": "display_data"
    },
    {
     "name": "stderr",
     "output_type": "stream",
     "text": [
      "Your max_length is set to 200, but your input_length is only 171. Since this is a summarization task, where outputs shorter than the input are typically wanted, you might consider decreasing max_length manually, e.g. summarizer('...', max_length=85)\n",
      "Your max_length is set to 200, but your input_length is only 142. Since this is a summarization task, where outputs shorter than the input are typically wanted, you might consider decreasing max_length manually, e.g. summarizer('...', max_length=71)\n",
      "Your max_length is set to 200, but your input_length is only 122. Since this is a summarization task, where outputs shorter than the input are typically wanted, you might consider decreasing max_length manually, e.g. summarizer('...', max_length=61)\n"
     ]
    },
    {
     "data": {
      "application/vnd.jupyter.widget-view+json": {
       "model_id": "3f50ac3d1ded46f1be4a0f1ea4ff53a6",
       "version_major": 2,
       "version_minor": 0
      },
      "text/plain": [
       "  0%|          | 0/50 [00:00<?, ?it/s]"
      ]
     },
     "metadata": {},
     "output_type": "display_data"
    },
    {
     "name": "stderr",
     "output_type": "stream",
     "text": [
      "Your max_length is set to 200, but your input_length is only 113. Since this is a summarization task, where outputs shorter than the input are typically wanted, you might consider decreasing max_length manually, e.g. summarizer('...', max_length=56)\n",
      "Your max_length is set to 200, but your input_length is only 101. Since this is a summarization task, where outputs shorter than the input are typically wanted, you might consider decreasing max_length manually, e.g. summarizer('...', max_length=50)\n",
      "Your max_length is set to 200, but your input_length is only 166. Since this is a summarization task, where outputs shorter than the input are typically wanted, you might consider decreasing max_length manually, e.g. summarizer('...', max_length=83)\n"
     ]
    },
    {
     "data": {
      "application/vnd.jupyter.widget-view+json": {
       "model_id": "a85eedf02cba4904bd642cf6c009c800",
       "version_major": 2,
       "version_minor": 0
      },
      "text/plain": [
       "  0%|          | 0/50 [00:00<?, ?it/s]"
      ]
     },
     "metadata": {},
     "output_type": "display_data"
    },
    {
     "name": "stderr",
     "output_type": "stream",
     "text": [
      "Your max_length is set to 200, but your input_length is only 76. Since this is a summarization task, where outputs shorter than the input are typically wanted, you might consider decreasing max_length manually, e.g. summarizer('...', max_length=38)\n",
      "Your max_length is set to 200, but your input_length is only 149. Since this is a summarization task, where outputs shorter than the input are typically wanted, you might consider decreasing max_length manually, e.g. summarizer('...', max_length=74)\n",
      "Your max_length is set to 200, but your input_length is only 101. Since this is a summarization task, where outputs shorter than the input are typically wanted, you might consider decreasing max_length manually, e.g. summarizer('...', max_length=50)\n",
      "Your max_length is set to 200, but your input_length is only 187. Since this is a summarization task, where outputs shorter than the input are typically wanted, you might consider decreasing max_length manually, e.g. summarizer('...', max_length=93)\n"
     ]
    },
    {
     "data": {
      "application/vnd.jupyter.widget-view+json": {
       "model_id": "acf3310e6c1e46219531664f5f508cec",
       "version_major": 2,
       "version_minor": 0
      },
      "text/plain": [
       "  0%|          | 0/50 [00:00<?, ?it/s]"
      ]
     },
     "metadata": {},
     "output_type": "display_data"
    },
    {
     "name": "stderr",
     "output_type": "stream",
     "text": [
      "Your max_length is set to 200, but your input_length is only 187. Since this is a summarization task, where outputs shorter than the input are typically wanted, you might consider decreasing max_length manually, e.g. summarizer('...', max_length=93)\n",
      "Your max_length is set to 200, but your input_length is only 159. Since this is a summarization task, where outputs shorter than the input are typically wanted, you might consider decreasing max_length manually, e.g. summarizer('...', max_length=79)\n",
      "Your max_length is set to 200, but your input_length is only 170. Since this is a summarization task, where outputs shorter than the input are typically wanted, you might consider decreasing max_length manually, e.g. summarizer('...', max_length=85)\n",
      "Your max_length is set to 200, but your input_length is only 184. Since this is a summarization task, where outputs shorter than the input are typically wanted, you might consider decreasing max_length manually, e.g. summarizer('...', max_length=92)\n"
     ]
    },
    {
     "data": {
      "application/vnd.jupyter.widget-view+json": {
       "model_id": "e6056a72ae3648edb6c3a2fa600dbef1",
       "version_major": 2,
       "version_minor": 0
      },
      "text/plain": [
       "  0%|          | 0/50 [00:00<?, ?it/s]"
      ]
     },
     "metadata": {},
     "output_type": "display_data"
    },
    {
     "name": "stderr",
     "output_type": "stream",
     "text": [
      "Your max_length is set to 200, but your input_length is only 159. Since this is a summarization task, where outputs shorter than the input are typically wanted, you might consider decreasing max_length manually, e.g. summarizer('...', max_length=79)\n",
      "Your max_length is set to 200, but your input_length is only 194. Since this is a summarization task, where outputs shorter than the input are typically wanted, you might consider decreasing max_length manually, e.g. summarizer('...', max_length=97)\n",
      "Your max_length is set to 200, but your input_length is only 147. Since this is a summarization task, where outputs shorter than the input are typically wanted, you might consider decreasing max_length manually, e.g. summarizer('...', max_length=73)\n",
      "Your max_length is set to 200, but your input_length is only 101. Since this is a summarization task, where outputs shorter than the input are typically wanted, you might consider decreasing max_length manually, e.g. summarizer('...', max_length=50)\n",
      "Your max_length is set to 200, but your input_length is only 143. Since this is a summarization task, where outputs shorter than the input are typically wanted, you might consider decreasing max_length manually, e.g. summarizer('...', max_length=71)\n"
     ]
    },
    {
     "data": {
      "application/vnd.jupyter.widget-view+json": {
       "model_id": "9d6c468a4f6a49768d448974f178d56e",
       "version_major": 2,
       "version_minor": 0
      },
      "text/plain": [
       "  0%|          | 0/50 [00:00<?, ?it/s]"
      ]
     },
     "metadata": {},
     "output_type": "display_data"
    },
    {
     "name": "stderr",
     "output_type": "stream",
     "text": [
      "Your max_length is set to 200, but your input_length is only 124. Since this is a summarization task, where outputs shorter than the input are typically wanted, you might consider decreasing max_length manually, e.g. summarizer('...', max_length=62)\n"
     ]
    },
    {
     "data": {
      "application/vnd.jupyter.widget-view+json": {
       "model_id": "9433a964d573473883dba38eb30ead58",
       "version_major": 2,
       "version_minor": 0
      },
      "text/plain": [
       "  0%|          | 0/50 [00:00<?, ?it/s]"
      ]
     },
     "metadata": {},
     "output_type": "display_data"
    },
    {
     "name": "stderr",
     "output_type": "stream",
     "text": [
      "Your max_length is set to 200, but your input_length is only 127. Since this is a summarization task, where outputs shorter than the input are typically wanted, you might consider decreasing max_length manually, e.g. summarizer('...', max_length=63)\n",
      "Your max_length is set to 200, but your input_length is only 170. Since this is a summarization task, where outputs shorter than the input are typically wanted, you might consider decreasing max_length manually, e.g. summarizer('...', max_length=85)\n",
      "Your max_length is set to 200, but your input_length is only 151. Since this is a summarization task, where outputs shorter than the input are typically wanted, you might consider decreasing max_length manually, e.g. summarizer('...', max_length=75)\n",
      "Your max_length is set to 200, but your input_length is only 186. Since this is a summarization task, where outputs shorter than the input are typically wanted, you might consider decreasing max_length manually, e.g. summarizer('...', max_length=93)\n",
      "Your max_length is set to 200, but your input_length is only 147. Since this is a summarization task, where outputs shorter than the input are typically wanted, you might consider decreasing max_length manually, e.g. summarizer('...', max_length=73)\n"
     ]
    },
    {
     "data": {
      "application/vnd.jupyter.widget-view+json": {
       "model_id": "6775d96aa0664bb6ad0e1e1a84b51ae4",
       "version_major": 2,
       "version_minor": 0
      },
      "text/plain": [
       "  0%|          | 0/43 [00:00<?, ?it/s]"
      ]
     },
     "metadata": {},
     "output_type": "display_data"
    },
    {
     "name": "stderr",
     "output_type": "stream",
     "text": [
      "Your max_length is set to 200, but your input_length is only 165. Since this is a summarization task, where outputs shorter than the input are typically wanted, you might consider decreasing max_length manually, e.g. summarizer('...', max_length=82)\n",
      "Your max_length is set to 200, but your input_length is only 116. Since this is a summarization task, where outputs shorter than the input are typically wanted, you might consider decreasing max_length manually, e.g. summarizer('...', max_length=58)\n",
      "Your max_length is set to 200, but your input_length is only 84. Since this is a summarization task, where outputs shorter than the input are typically wanted, you might consider decreasing max_length manually, e.g. summarizer('...', max_length=42)\n",
      "Your max_length is set to 200, but your input_length is only 172. Since this is a summarization task, where outputs shorter than the input are typically wanted, you might consider decreasing max_length manually, e.g. summarizer('...', max_length=86)\n",
      "Your max_length is set to 200, but your input_length is only 163. Since this is a summarization task, where outputs shorter than the input are typically wanted, you might consider decreasing max_length manually, e.g. summarizer('...', max_length=81)\n"
     ]
    }
   ],
   "source": [
    "import warnings \n",
    "from datetime import datetime\n",
    "\n",
    "# Settings the warnings to be ignored \n",
    "warnings.filterwarnings('ignore')\n",
    "\n",
    "# Split the large DataFrame into smaller chunks\n",
    "chunk_size = 50\n",
    "chunks = [sample_df[i:i + chunk_size] for i in range(0, len(sample_df), chunk_size)]\n",
    "# Create an empty list to store the results\n",
    "results = []\n",
    "\n",
    "for i, chunk in enumerate(tqdm(chunks)):\n",
    "    chunk['BODY_SUMMARY'] = chunk['BODY'].progress_apply(lambda body_text: summarize_with_error_handling(loaded_summarizer, body_text, 2000))\n",
    "    results.append(chunk)\n",
    "    chunk.to_csv(f'./chunk_summary_output_02/chunk_{i+1}.csv', index=False)\n",
    "    \n",
    "result_df = pd.concat(results)\n",
    "result_df.to_csv(f'./chunk_summary_output_02/total_result.csv', index=False)"
   ]
  },
  {
   "cell_type": "code",
   "execution_count": 34,
   "metadata": {},
   "outputs": [
    {
     "data": {
      "text/html": [
       "<div>\n",
       "<style scoped>\n",
       "    .dataframe tbody tr th:only-of-type {\n",
       "        vertical-align: middle;\n",
       "    }\n",
       "\n",
       "    .dataframe tbody tr th {\n",
       "        vertical-align: top;\n",
       "    }\n",
       "\n",
       "    .dataframe thead th {\n",
       "        text-align: right;\n",
       "    }\n",
       "</style>\n",
       "<table border=\"1\" class=\"dataframe\">\n",
       "  <thead>\n",
       "    <tr style=\"text-align: right;\">\n",
       "      <th></th>\n",
       "      <th>INSERT_DATETIME</th>\n",
       "      <th>URI</th>\n",
       "      <th>TOPIC</th>\n",
       "      <th>TOPIC_URI</th>\n",
       "      <th>TITLE</th>\n",
       "      <th>BODY</th>\n",
       "      <th>URL</th>\n",
       "      <th>RELEVANCE_CLASS</th>\n",
       "      <th>BODY_SUMMARY</th>\n",
       "    </tr>\n",
       "  </thead>\n",
       "  <tbody>\n",
       "    <tr>\n",
       "      <th>1350</th>\n",
       "      <td>2023-09-12 04:02:07.878</td>\n",
       "      <td>7433169857</td>\n",
       "      <td>protest_riot</td>\n",
       "      <td>985cec5c-091d-44bc-a739-8d49b836f7ce</td>\n",
       "      <td>Tunisians defy protest ban and rally against p...</td>\n",
       "      <td>Hundreds of Tunisians rallied in defiance agai...</td>\n",
       "      <td>https://www.euronews.com/2023/03/06/tunisians-...</td>\n",
       "      <td>0</td>\n",
       "      <td>Protesters demand the release of more than 20 ...</td>\n",
       "    </tr>\n",
       "    <tr>\n",
       "      <th>1351</th>\n",
       "      <td>2023-09-12 04:02:07.878</td>\n",
       "      <td>7433164479</td>\n",
       "      <td>material</td>\n",
       "      <td>e5e76cd2-23a4-43a3-b1db-6c98860feaba</td>\n",
       "      <td>WRAPUP 1-South African food producers expect m...</td>\n",
       "      <td>AVI, which also sells clothes, managed to clin...</td>\n",
       "      <td>https://www.devdiscourse.com/article/headlines...</td>\n",
       "      <td>0</td>\n",
       "      <td>RCL Foods and AVI said demand was expected to ...</td>\n",
       "    </tr>\n",
       "    <tr>\n",
       "      <th>1352</th>\n",
       "      <td>2023-09-12 04:02:07.878</td>\n",
       "      <td>7433148494</td>\n",
       "      <td>material</td>\n",
       "      <td>e5e76cd2-23a4-43a3-b1db-6c98860feaba</td>\n",
       "      <td>Polestar Automotive is viewed cautiously by De...</td>\n",
       "      <td>Deutsche Bank kept a cautious view on Polestar...</td>\n",
       "      <td>https://seekingalpha.com/news/3944373-polestar...</td>\n",
       "      <td>0</td>\n",
       "      <td>Deutsche Bank kept a cautious view on Polestar...</td>\n",
       "    </tr>\n",
       "    <tr>\n",
       "      <th>1353</th>\n",
       "      <td>2023-09-12 04:02:07.878</td>\n",
       "      <td>7433117815</td>\n",
       "      <td>train</td>\n",
       "      <td>3b27edc7-6ce6-4216-bc47-5693f57b052e</td>\n",
       "      <td>Greek railway strikes continue, EU pledges hel...</td>\n",
       "      <td>Wagner head warns of risk to Bakhmut positions...</td>\n",
       "      <td>https://www.dailysabah.com/world/europe/greek-...</td>\n",
       "      <td>1</td>\n",
       "      <td>Greek rail workers go on strike for a sixth da...</td>\n",
       "    </tr>\n",
       "    <tr>\n",
       "      <th>1354</th>\n",
       "      <td>2023-09-12 04:02:07.878</td>\n",
       "      <td>7433127646</td>\n",
       "      <td>train</td>\n",
       "      <td>3b27edc7-6ce6-4216-bc47-5693f57b052e</td>\n",
       "      <td>Sorrow gives way to anger in Greece's worst ev...</td>\n",
       "      <td>Larissa, Greece - Relatives of those killed in...</td>\n",
       "      <td>https://www.aljazeera.com/news/2023/3/6/sorrow...</td>\n",
       "      <td>1</td>\n",
       "      <td>Greece's worst-ever train accident has left 57...</td>\n",
       "    </tr>\n",
       "  </tbody>\n",
       "</table>\n",
       "</div>"
      ],
      "text/plain": [
       "              INSERT_DATETIME         URI         TOPIC  \\\n",
       "1350  2023-09-12 04:02:07.878  7433169857  protest_riot   \n",
       "1351  2023-09-12 04:02:07.878  7433164479      material   \n",
       "1352  2023-09-12 04:02:07.878  7433148494      material   \n",
       "1353  2023-09-12 04:02:07.878  7433117815         train   \n",
       "1354  2023-09-12 04:02:07.878  7433127646         train   \n",
       "\n",
       "                                 TOPIC_URI  \\\n",
       "1350  985cec5c-091d-44bc-a739-8d49b836f7ce   \n",
       "1351  e5e76cd2-23a4-43a3-b1db-6c98860feaba   \n",
       "1352  e5e76cd2-23a4-43a3-b1db-6c98860feaba   \n",
       "1353  3b27edc7-6ce6-4216-bc47-5693f57b052e   \n",
       "1354  3b27edc7-6ce6-4216-bc47-5693f57b052e   \n",
       "\n",
       "                                                  TITLE  \\\n",
       "1350  Tunisians defy protest ban and rally against p...   \n",
       "1351  WRAPUP 1-South African food producers expect m...   \n",
       "1352  Polestar Automotive is viewed cautiously by De...   \n",
       "1353  Greek railway strikes continue, EU pledges hel...   \n",
       "1354  Sorrow gives way to anger in Greece's worst ev...   \n",
       "\n",
       "                                                   BODY  \\\n",
       "1350  Hundreds of Tunisians rallied in defiance agai...   \n",
       "1351  AVI, which also sells clothes, managed to clin...   \n",
       "1352  Deutsche Bank kept a cautious view on Polestar...   \n",
       "1353  Wagner head warns of risk to Bakhmut positions...   \n",
       "1354  Larissa, Greece - Relatives of those killed in...   \n",
       "\n",
       "                                                    URL  RELEVANCE_CLASS  \\\n",
       "1350  https://www.euronews.com/2023/03/06/tunisians-...                0   \n",
       "1351  https://www.devdiscourse.com/article/headlines...                0   \n",
       "1352  https://seekingalpha.com/news/3944373-polestar...                0   \n",
       "1353  https://www.dailysabah.com/world/europe/greek-...                1   \n",
       "1354  https://www.aljazeera.com/news/2023/3/6/sorrow...                1   \n",
       "\n",
       "                                           BODY_SUMMARY  \n",
       "1350  Protesters demand the release of more than 20 ...  \n",
       "1351  RCL Foods and AVI said demand was expected to ...  \n",
       "1352  Deutsche Bank kept a cautious view on Polestar...  \n",
       "1353  Greek rail workers go on strike for a sixth da...  \n",
       "1354  Greece's worst-ever train accident has left 57...  "
      ]
     },
     "execution_count": 34,
     "metadata": {},
     "output_type": "execute_result"
    }
   ],
   "source": [
    "result_df.head(5)"
   ]
  },
  {
   "cell_type": "code",
   "execution_count": 7,
   "metadata": {},
   "outputs": [
    {
     "data": {
      "application/vnd.jupyter.widget-view+json": {
       "model_id": "1f97b5370fa543af9794fc6000af7814",
       "version_major": 2,
       "version_minor": 0
      },
      "text/plain": [
       "  0%|          | 0/29 [00:00<?, ?it/s]"
      ]
     },
     "metadata": {},
     "output_type": "display_data"
    },
    {
     "name": "stderr",
     "output_type": "stream",
     "text": [
      "Your max_length is set to 200, but your input_length is only 125. Since this is a summarization task, where outputs shorter than the input are typically wanted, you might consider decreasing max_length manually, e.g. summarizer('...', max_length=62)\n",
      "Your max_length is set to 200, but your input_length is only 180. Since this is a summarization task, where outputs shorter than the input are typically wanted, you might consider decreasing max_length manually, e.g. summarizer('...', max_length=90)\n",
      "Your max_length is set to 200, but your input_length is only 135. Since this is a summarization task, where outputs shorter than the input are typically wanted, you might consider decreasing max_length manually, e.g. summarizer('...', max_length=67)\n",
      "Your max_length is set to 200, but your input_length is only 187. Since this is a summarization task, where outputs shorter than the input are typically wanted, you might consider decreasing max_length manually, e.g. summarizer('...', max_length=93)\n",
      "Your max_length is set to 200, but your input_length is only 117. Since this is a summarization task, where outputs shorter than the input are typically wanted, you might consider decreasing max_length manually, e.g. summarizer('...', max_length=58)\n",
      "Your max_length is set to 200, but your input_length is only 102. Since this is a summarization task, where outputs shorter than the input are typically wanted, you might consider decreasing max_length manually, e.g. summarizer('...', max_length=51)\n",
      "Your max_length is set to 200, but your input_length is only 107. Since this is a summarization task, where outputs shorter than the input are typically wanted, you might consider decreasing max_length manually, e.g. summarizer('...', max_length=53)\n"
     ]
    }
   ],
   "source": [
    "# # summarizing the news\n",
    "# sample_df['BODY_SUMMARY'] = sample_df['BODY'].progress_apply(\n",
    "#     lambda body_text: summarize_with_error_handling(loaded_summarizer, body_text, 2000))\n",
    "\n",
    "# sample_df.to_csv('gold_NEWS_API_ML_LABELLED_summary_02.csv')"
   ]
  },
  {
   "attachments": {},
   "cell_type": "markdown",
   "metadata": {},
   "source": [
    "### Combining all "
   ]
  },
  {
   "cell_type": "code",
   "execution_count": 35,
   "metadata": {},
   "outputs": [],
   "source": [
    "root_dir = './chunk_summary_output'\n",
    "os.listdir(root_dir)\n",
    "df_list = []\n",
    "for file_name in os.listdir(root_dir):\n",
    "    file_path = os.path.join(root_dir, file_name)\n",
    "    df_chunk = pd.read_csv(file_path)\n",
    "    df_list.append(df_chunk)\n",
    "df_combined = pd.concat(df_list)\n",
    "df_combined_02 = result_df.copy(deep=True)"
   ]
  },
  {
   "cell_type": "code",
   "execution_count": 36,
   "metadata": {},
   "outputs": [],
   "source": [
    "df_news_api_training = pd.concat([df_combined, df_combined_02])"
   ]
  },
  {
   "cell_type": "code",
   "execution_count": 37,
   "metadata": {},
   "outputs": [
    {
     "data": {
      "text/html": [
       "<div>\n",
       "<style scoped>\n",
       "    .dataframe tbody tr th:only-of-type {\n",
       "        vertical-align: middle;\n",
       "    }\n",
       "\n",
       "    .dataframe tbody tr th {\n",
       "        vertical-align: top;\n",
       "    }\n",
       "\n",
       "    .dataframe thead th {\n",
       "        text-align: right;\n",
       "    }\n",
       "</style>\n",
       "<table border=\"1\" class=\"dataframe\">\n",
       "  <thead>\n",
       "    <tr style=\"text-align: right;\">\n",
       "      <th></th>\n",
       "      <th>INSERT_DATETIME</th>\n",
       "      <th>URI</th>\n",
       "      <th>TOPIC</th>\n",
       "      <th>TOPIC_URI</th>\n",
       "      <th>TITLE</th>\n",
       "      <th>BODY</th>\n",
       "      <th>URL</th>\n",
       "      <th>RELEVANCE_CLASS</th>\n",
       "      <th>BODY_SUMMARY</th>\n",
       "    </tr>\n",
       "  </thead>\n",
       "  <tbody>\n",
       "    <tr>\n",
       "      <th>0</th>\n",
       "      <td>2023-09-12 04:09:07.586</td>\n",
       "      <td>7514939005</td>\n",
       "      <td>warehouse_fire</td>\n",
       "      <td>eb7688e0-0c9f-4e9a-a2b8-2ba000a8f11b</td>\n",
       "      <td>Concrete Block Plant Controversy Builds</td>\n",
       "      <td>Proponents and opponents of a controversial zo...</td>\n",
       "      <td>https://stjohntradewinds.com/concrete-block-pl...</td>\n",
       "      <td>0</td>\n",
       "      <td>An online petition against the concrete block ...</td>\n",
       "    </tr>\n",
       "    <tr>\n",
       "      <th>1</th>\n",
       "      <td>2023-09-12 04:09:07.586</td>\n",
       "      <td>7514909363</td>\n",
       "      <td>warehouse_fire</td>\n",
       "      <td>eb7688e0-0c9f-4e9a-a2b8-2ba000a8f11b</td>\n",
       "      <td>Investigations underway after 2 pest control w...</td>\n",
       "      <td>POMPANO BEACH, FLA. (WSVN) - Police are invest...</td>\n",
       "      <td>https://wsvn.com/news/local/broward/investigat...</td>\n",
       "      <td>1</td>\n",
       "      <td>Three employees of a pesticide company went to...</td>\n",
       "    </tr>\n",
       "    <tr>\n",
       "      <th>2</th>\n",
       "      <td>2023-09-12 04:09:07.586</td>\n",
       "      <td>7514805717</td>\n",
       "      <td>warehouse_fire</td>\n",
       "      <td>eb7688e0-0c9f-4e9a-a2b8-2ba000a8f11b</td>\n",
       "      <td>Employee treated for smoke inhalation after fi...</td>\n",
       "      <td>An employee of a document destruction warehous...</td>\n",
       "      <td>https://www.chicagotribune.com/suburbs/aurora-...</td>\n",
       "      <td>1</td>\n",
       "      <td>A fire broke out at a document destruction war...</td>\n",
       "    </tr>\n",
       "    <tr>\n",
       "      <th>3</th>\n",
       "      <td>2023-09-12 04:09:07.586</td>\n",
       "      <td>7514763894</td>\n",
       "      <td>warehouse_fire</td>\n",
       "      <td>eb7688e0-0c9f-4e9a-a2b8-2ba000a8f11b</td>\n",
       "      <td>Zero toxic compounds identified after Wissinom...</td>\n",
       "      <td>PHILADELPHIA (CBS) -- No toxic compounds were ...</td>\n",
       "      <td>https://www.cbsnews.com/philadelphia/news/phil...</td>\n",
       "      <td>1</td>\n",
       "      <td>The city collected an air sample in the vicini...</td>\n",
       "    </tr>\n",
       "    <tr>\n",
       "      <th>4</th>\n",
       "      <td>2023-09-12 04:09:07.586</td>\n",
       "      <td>7514549341</td>\n",
       "      <td>warehouse_fire</td>\n",
       "      <td>eb7688e0-0c9f-4e9a-a2b8-2ba000a8f11b</td>\n",
       "      <td>1 dead in suburban Chicago petroleum plant exp...</td>\n",
       "      <td>Fox News Flash top headlines are here. Check o...</td>\n",
       "      <td>https://www.foxnews.com/us/1-dead-suburban-chi...</td>\n",
       "      <td>1</td>\n",
       "      <td>The explosion occurred at Seneca Petroleum in ...</td>\n",
       "    </tr>\n",
       "    <tr>\n",
       "      <th>...</th>\n",
       "      <td>...</td>\n",
       "      <td>...</td>\n",
       "      <td>...</td>\n",
       "      <td>...</td>\n",
       "      <td>...</td>\n",
       "      <td>...</td>\n",
       "      <td>...</td>\n",
       "      <td>...</td>\n",
       "      <td>...</td>\n",
       "    </tr>\n",
       "    <tr>\n",
       "      <th>2088</th>\n",
       "      <td>2023-09-12 04:02:07.878</td>\n",
       "      <td>7398330361</td>\n",
       "      <td>protest_riot</td>\n",
       "      <td>985cec5c-091d-44bc-a739-8d49b836f7ce</td>\n",
       "      <td>Delhi street vendors protest against civic bod...</td>\n",
       "      <td>NEW DELHI: Hundreds of street vendors from acr...</td>\n",
       "      <td>https://timesofindia.indiatimes.com/city/delhi...</td>\n",
       "      <td>0</td>\n",
       "      <td>Hundreds of street vendors from across the cap...</td>\n",
       "    </tr>\n",
       "    <tr>\n",
       "      <th>2089</th>\n",
       "      <td>2023-09-12 04:02:07.878</td>\n",
       "      <td>7398254799</td>\n",
       "      <td>protest_riot</td>\n",
       "      <td>985cec5c-091d-44bc-a739-8d49b836f7ce</td>\n",
       "      <td>Trains packed, thousands of vehicles join conv...</td>\n",
       "      <td>A packed train from Tel Aviv to Jerusalem as p...</td>\n",
       "      <td>https://www.timesofisrael.com/liveblog_entry/t...</td>\n",
       "      <td>0</td>\n",
       "      <td>Tens of thousands of people are participating ...</td>\n",
       "    </tr>\n",
       "    <tr>\n",
       "      <th>2090</th>\n",
       "      <td>2023-09-12 04:02:07.878</td>\n",
       "      <td>7398231770</td>\n",
       "      <td>strike</td>\n",
       "      <td>3c6e51c0-87a5-4343-9fd9-76b1edd597cf</td>\n",
       "      <td>Easter holiday warning as more airport staff s...</td>\n",
       "      <td>FAMILIES heading abroad during the Easter holi...</td>\n",
       "      <td>https://www.thesun.co.uk/travel/21365752/easte...</td>\n",
       "      <td>0</td>\n",
       "      <td>More than 3,000 workers are calling to strike ...</td>\n",
       "    </tr>\n",
       "    <tr>\n",
       "      <th>2091</th>\n",
       "      <td>2023-09-12 04:02:07.878</td>\n",
       "      <td>7397746307</td>\n",
       "      <td>air</td>\n",
       "      <td>f5e25ca7-4d7a-475e-89ab-7d45d5fa1365</td>\n",
       "      <td>Auckland Airport warns worst is yet to come, 4...</td>\n",
       "      <td>Travellers are being warned about the importan...</td>\n",
       "      <td>https://www.nzherald.co.nz/business/cyclone-ga...</td>\n",
       "      <td>1</td>\n",
       "      <td>80 per cent of international flights through A...</td>\n",
       "    </tr>\n",
       "    <tr>\n",
       "      <th>2092</th>\n",
       "      <td>2023-09-12 04:02:07.878</td>\n",
       "      <td>7397668836</td>\n",
       "      <td>protest_riot</td>\n",
       "      <td>985cec5c-091d-44bc-a739-8d49b836f7ce</td>\n",
       "      <td>Residents mark anniversary of 'Freedom Convoy'...</td>\n",
       "      <td>A small group of Ottawa residents marked a fla...</td>\n",
       "      <td>https://ottawa.ctvnews.ca/residents-mark-anniv...</td>\n",
       "      <td>0</td>\n",
       "      <td>A small group of Ottawa residents marked a fla...</td>\n",
       "    </tr>\n",
       "  </tbody>\n",
       "</table>\n",
       "<p>2093 rows × 9 columns</p>\n",
       "</div>"
      ],
      "text/plain": [
       "              INSERT_DATETIME         URI           TOPIC  \\\n",
       "0     2023-09-12 04:09:07.586  7514939005  warehouse_fire   \n",
       "1     2023-09-12 04:09:07.586  7514909363  warehouse_fire   \n",
       "2     2023-09-12 04:09:07.586  7514805717  warehouse_fire   \n",
       "3     2023-09-12 04:09:07.586  7514763894  warehouse_fire   \n",
       "4     2023-09-12 04:09:07.586  7514549341  warehouse_fire   \n",
       "...                       ...         ...             ...   \n",
       "2088  2023-09-12 04:02:07.878  7398330361    protest_riot   \n",
       "2089  2023-09-12 04:02:07.878  7398254799    protest_riot   \n",
       "2090  2023-09-12 04:02:07.878  7398231770          strike   \n",
       "2091  2023-09-12 04:02:07.878  7397746307             air   \n",
       "2092  2023-09-12 04:02:07.878  7397668836    protest_riot   \n",
       "\n",
       "                                 TOPIC_URI  \\\n",
       "0     eb7688e0-0c9f-4e9a-a2b8-2ba000a8f11b   \n",
       "1     eb7688e0-0c9f-4e9a-a2b8-2ba000a8f11b   \n",
       "2     eb7688e0-0c9f-4e9a-a2b8-2ba000a8f11b   \n",
       "3     eb7688e0-0c9f-4e9a-a2b8-2ba000a8f11b   \n",
       "4     eb7688e0-0c9f-4e9a-a2b8-2ba000a8f11b   \n",
       "...                                    ...   \n",
       "2088  985cec5c-091d-44bc-a739-8d49b836f7ce   \n",
       "2089  985cec5c-091d-44bc-a739-8d49b836f7ce   \n",
       "2090  3c6e51c0-87a5-4343-9fd9-76b1edd597cf   \n",
       "2091  f5e25ca7-4d7a-475e-89ab-7d45d5fa1365   \n",
       "2092  985cec5c-091d-44bc-a739-8d49b836f7ce   \n",
       "\n",
       "                                                  TITLE  \\\n",
       "0               Concrete Block Plant Controversy Builds   \n",
       "1     Investigations underway after 2 pest control w...   \n",
       "2     Employee treated for smoke inhalation after fi...   \n",
       "3     Zero toxic compounds identified after Wissinom...   \n",
       "4     1 dead in suburban Chicago petroleum plant exp...   \n",
       "...                                                 ...   \n",
       "2088  Delhi street vendors protest against civic bod...   \n",
       "2089  Trains packed, thousands of vehicles join conv...   \n",
       "2090  Easter holiday warning as more airport staff s...   \n",
       "2091  Auckland Airport warns worst is yet to come, 4...   \n",
       "2092  Residents mark anniversary of 'Freedom Convoy'...   \n",
       "\n",
       "                                                   BODY  \\\n",
       "0     Proponents and opponents of a controversial zo...   \n",
       "1     POMPANO BEACH, FLA. (WSVN) - Police are invest...   \n",
       "2     An employee of a document destruction warehous...   \n",
       "3     PHILADELPHIA (CBS) -- No toxic compounds were ...   \n",
       "4     Fox News Flash top headlines are here. Check o...   \n",
       "...                                                 ...   \n",
       "2088  NEW DELHI: Hundreds of street vendors from acr...   \n",
       "2089  A packed train from Tel Aviv to Jerusalem as p...   \n",
       "2090  FAMILIES heading abroad during the Easter holi...   \n",
       "2091  Travellers are being warned about the importan...   \n",
       "2092  A small group of Ottawa residents marked a fla...   \n",
       "\n",
       "                                                    URL  RELEVANCE_CLASS  \\\n",
       "0     https://stjohntradewinds.com/concrete-block-pl...                0   \n",
       "1     https://wsvn.com/news/local/broward/investigat...                1   \n",
       "2     https://www.chicagotribune.com/suburbs/aurora-...                1   \n",
       "3     https://www.cbsnews.com/philadelphia/news/phil...                1   \n",
       "4     https://www.foxnews.com/us/1-dead-suburban-chi...                1   \n",
       "...                                                 ...              ...   \n",
       "2088  https://timesofindia.indiatimes.com/city/delhi...                0   \n",
       "2089  https://www.timesofisrael.com/liveblog_entry/t...                0   \n",
       "2090  https://www.thesun.co.uk/travel/21365752/easte...                0   \n",
       "2091  https://www.nzherald.co.nz/business/cyclone-ga...                1   \n",
       "2092  https://ottawa.ctvnews.ca/residents-mark-anniv...                0   \n",
       "\n",
       "                                           BODY_SUMMARY  \n",
       "0     An online petition against the concrete block ...  \n",
       "1     Three employees of a pesticide company went to...  \n",
       "2     A fire broke out at a document destruction war...  \n",
       "3     The city collected an air sample in the vicini...  \n",
       "4     The explosion occurred at Seneca Petroleum in ...  \n",
       "...                                                 ...  \n",
       "2088  Hundreds of street vendors from across the cap...  \n",
       "2089  Tens of thousands of people are participating ...  \n",
       "2090  More than 3,000 workers are calling to strike ...  \n",
       "2091  80 per cent of international flights through A...  \n",
       "2092  A small group of Ottawa residents marked a fla...  \n",
       "\n",
       "[2093 rows x 9 columns]"
      ]
     },
     "execution_count": 37,
     "metadata": {},
     "output_type": "execute_result"
    }
   ],
   "source": [
    "df_news_api_training"
   ]
  },
  {
   "cell_type": "code",
   "execution_count": 40,
   "metadata": {},
   "outputs": [
    {
     "data": {
      "text/html": [
       "<div>\n",
       "<style scoped>\n",
       "    .dataframe tbody tr th:only-of-type {\n",
       "        vertical-align: middle;\n",
       "    }\n",
       "\n",
       "    .dataframe tbody tr th {\n",
       "        vertical-align: top;\n",
       "    }\n",
       "\n",
       "    .dataframe thead th {\n",
       "        text-align: right;\n",
       "    }\n",
       "</style>\n",
       "<table border=\"1\" class=\"dataframe\">\n",
       "  <thead>\n",
       "    <tr style=\"text-align: right;\">\n",
       "      <th></th>\n",
       "      <th>INSERT_DATETIME</th>\n",
       "      <th>URI</th>\n",
       "      <th>TOPIC</th>\n",
       "      <th>TOPIC_URI</th>\n",
       "      <th>EVENTURI</th>\n",
       "      <th>SOURCE</th>\n",
       "      <th>URL</th>\n",
       "      <th>TITLE</th>\n",
       "      <th>BODY</th>\n",
       "      <th>BODY_SUMMARY</th>\n",
       "      <th>METADATA</th>\n",
       "      <th>ARTICLE_HIERARCHY</th>\n",
       "      <th>RELEVANCE_CLASS</th>\n",
       "    </tr>\n",
       "  </thead>\n",
       "  <tbody>\n",
       "    <tr>\n",
       "      <th>0</th>\n",
       "      <td>2023-09-12 04:09:07.586</td>\n",
       "      <td>7514939005</td>\n",
       "      <td>warehouse_fire</td>\n",
       "      <td>eb7688e0-0c9f-4e9a-a2b8-2ba000a8f11b</td>\n",
       "      <td></td>\n",
       "      <td></td>\n",
       "      <td>https://stjohntradewinds.com/concrete-block-pl...</td>\n",
       "      <td>Concrete Block Plant Controversy Builds</td>\n",
       "      <td>Proponents and opponents of a controversial zo...</td>\n",
       "      <td>An online petition against the concrete block ...</td>\n",
       "      <td></td>\n",
       "      <td></td>\n",
       "      <td>0</td>\n",
       "    </tr>\n",
       "    <tr>\n",
       "      <th>1</th>\n",
       "      <td>2023-09-12 04:09:07.586</td>\n",
       "      <td>7514909363</td>\n",
       "      <td>warehouse_fire</td>\n",
       "      <td>eb7688e0-0c9f-4e9a-a2b8-2ba000a8f11b</td>\n",
       "      <td></td>\n",
       "      <td></td>\n",
       "      <td>https://wsvn.com/news/local/broward/investigat...</td>\n",
       "      <td>Investigations underway after 2 pest control w...</td>\n",
       "      <td>POMPANO BEACH, FLA. (WSVN) - Police are invest...</td>\n",
       "      <td>Three employees of a pesticide company went to...</td>\n",
       "      <td></td>\n",
       "      <td></td>\n",
       "      <td>1</td>\n",
       "    </tr>\n",
       "    <tr>\n",
       "      <th>2</th>\n",
       "      <td>2023-09-12 04:09:07.586</td>\n",
       "      <td>7514805717</td>\n",
       "      <td>warehouse_fire</td>\n",
       "      <td>eb7688e0-0c9f-4e9a-a2b8-2ba000a8f11b</td>\n",
       "      <td></td>\n",
       "      <td></td>\n",
       "      <td>https://www.chicagotribune.com/suburbs/aurora-...</td>\n",
       "      <td>Employee treated for smoke inhalation after fi...</td>\n",
       "      <td>An employee of a document destruction warehous...</td>\n",
       "      <td>A fire broke out at a document destruction war...</td>\n",
       "      <td></td>\n",
       "      <td></td>\n",
       "      <td>1</td>\n",
       "    </tr>\n",
       "    <tr>\n",
       "      <th>3</th>\n",
       "      <td>2023-09-12 04:09:07.586</td>\n",
       "      <td>7514763894</td>\n",
       "      <td>warehouse_fire</td>\n",
       "      <td>eb7688e0-0c9f-4e9a-a2b8-2ba000a8f11b</td>\n",
       "      <td></td>\n",
       "      <td></td>\n",
       "      <td>https://www.cbsnews.com/philadelphia/news/phil...</td>\n",
       "      <td>Zero toxic compounds identified after Wissinom...</td>\n",
       "      <td>PHILADELPHIA (CBS) -- No toxic compounds were ...</td>\n",
       "      <td>The city collected an air sample in the vicini...</td>\n",
       "      <td></td>\n",
       "      <td></td>\n",
       "      <td>1</td>\n",
       "    </tr>\n",
       "    <tr>\n",
       "      <th>4</th>\n",
       "      <td>2023-09-12 04:09:07.586</td>\n",
       "      <td>7514549341</td>\n",
       "      <td>warehouse_fire</td>\n",
       "      <td>eb7688e0-0c9f-4e9a-a2b8-2ba000a8f11b</td>\n",
       "      <td></td>\n",
       "      <td></td>\n",
       "      <td>https://www.foxnews.com/us/1-dead-suburban-chi...</td>\n",
       "      <td>1 dead in suburban Chicago petroleum plant exp...</td>\n",
       "      <td>Fox News Flash top headlines are here. Check o...</td>\n",
       "      <td>The explosion occurred at Seneca Petroleum in ...</td>\n",
       "      <td></td>\n",
       "      <td></td>\n",
       "      <td>1</td>\n",
       "    </tr>\n",
       "    <tr>\n",
       "      <th>...</th>\n",
       "      <td>...</td>\n",
       "      <td>...</td>\n",
       "      <td>...</td>\n",
       "      <td>...</td>\n",
       "      <td>...</td>\n",
       "      <td>...</td>\n",
       "      <td>...</td>\n",
       "      <td>...</td>\n",
       "      <td>...</td>\n",
       "      <td>...</td>\n",
       "      <td>...</td>\n",
       "      <td>...</td>\n",
       "      <td>...</td>\n",
       "    </tr>\n",
       "    <tr>\n",
       "      <th>2088</th>\n",
       "      <td>2023-09-12 04:02:07.878</td>\n",
       "      <td>7398330361</td>\n",
       "      <td>protest_riot</td>\n",
       "      <td>985cec5c-091d-44bc-a739-8d49b836f7ce</td>\n",
       "      <td></td>\n",
       "      <td></td>\n",
       "      <td>https://timesofindia.indiatimes.com/city/delhi...</td>\n",
       "      <td>Delhi street vendors protest against civic bod...</td>\n",
       "      <td>NEW DELHI: Hundreds of street vendors from acr...</td>\n",
       "      <td>Hundreds of street vendors from across the cap...</td>\n",
       "      <td></td>\n",
       "      <td></td>\n",
       "      <td>0</td>\n",
       "    </tr>\n",
       "    <tr>\n",
       "      <th>2089</th>\n",
       "      <td>2023-09-12 04:02:07.878</td>\n",
       "      <td>7398254799</td>\n",
       "      <td>protest_riot</td>\n",
       "      <td>985cec5c-091d-44bc-a739-8d49b836f7ce</td>\n",
       "      <td></td>\n",
       "      <td></td>\n",
       "      <td>https://www.timesofisrael.com/liveblog_entry/t...</td>\n",
       "      <td>Trains packed, thousands of vehicles join conv...</td>\n",
       "      <td>A packed train from Tel Aviv to Jerusalem as p...</td>\n",
       "      <td>Tens of thousands of people are participating ...</td>\n",
       "      <td></td>\n",
       "      <td></td>\n",
       "      <td>0</td>\n",
       "    </tr>\n",
       "    <tr>\n",
       "      <th>2090</th>\n",
       "      <td>2023-09-12 04:02:07.878</td>\n",
       "      <td>7398231770</td>\n",
       "      <td>strike</td>\n",
       "      <td>3c6e51c0-87a5-4343-9fd9-76b1edd597cf</td>\n",
       "      <td></td>\n",
       "      <td></td>\n",
       "      <td>https://www.thesun.co.uk/travel/21365752/easte...</td>\n",
       "      <td>Easter holiday warning as more airport staff s...</td>\n",
       "      <td>FAMILIES heading abroad during the Easter holi...</td>\n",
       "      <td>More than 3,000 workers are calling to strike ...</td>\n",
       "      <td></td>\n",
       "      <td></td>\n",
       "      <td>0</td>\n",
       "    </tr>\n",
       "    <tr>\n",
       "      <th>2091</th>\n",
       "      <td>2023-09-12 04:02:07.878</td>\n",
       "      <td>7397746307</td>\n",
       "      <td>air</td>\n",
       "      <td>f5e25ca7-4d7a-475e-89ab-7d45d5fa1365</td>\n",
       "      <td></td>\n",
       "      <td></td>\n",
       "      <td>https://www.nzherald.co.nz/business/cyclone-ga...</td>\n",
       "      <td>Auckland Airport warns worst is yet to come, 4...</td>\n",
       "      <td>Travellers are being warned about the importan...</td>\n",
       "      <td>80 per cent of international flights through A...</td>\n",
       "      <td></td>\n",
       "      <td></td>\n",
       "      <td>1</td>\n",
       "    </tr>\n",
       "    <tr>\n",
       "      <th>2092</th>\n",
       "      <td>2023-09-12 04:02:07.878</td>\n",
       "      <td>7397668836</td>\n",
       "      <td>protest_riot</td>\n",
       "      <td>985cec5c-091d-44bc-a739-8d49b836f7ce</td>\n",
       "      <td></td>\n",
       "      <td></td>\n",
       "      <td>https://ottawa.ctvnews.ca/residents-mark-anniv...</td>\n",
       "      <td>Residents mark anniversary of 'Freedom Convoy'...</td>\n",
       "      <td>A small group of Ottawa residents marked a fla...</td>\n",
       "      <td>A small group of Ottawa residents marked a fla...</td>\n",
       "      <td></td>\n",
       "      <td></td>\n",
       "      <td>0</td>\n",
       "    </tr>\n",
       "  </tbody>\n",
       "</table>\n",
       "<p>2093 rows × 13 columns</p>\n",
       "</div>"
      ],
      "text/plain": [
       "              INSERT_DATETIME         URI           TOPIC  \\\n",
       "0     2023-09-12 04:09:07.586  7514939005  warehouse_fire   \n",
       "1     2023-09-12 04:09:07.586  7514909363  warehouse_fire   \n",
       "2     2023-09-12 04:09:07.586  7514805717  warehouse_fire   \n",
       "3     2023-09-12 04:09:07.586  7514763894  warehouse_fire   \n",
       "4     2023-09-12 04:09:07.586  7514549341  warehouse_fire   \n",
       "...                       ...         ...             ...   \n",
       "2088  2023-09-12 04:02:07.878  7398330361    protest_riot   \n",
       "2089  2023-09-12 04:02:07.878  7398254799    protest_riot   \n",
       "2090  2023-09-12 04:02:07.878  7398231770          strike   \n",
       "2091  2023-09-12 04:02:07.878  7397746307             air   \n",
       "2092  2023-09-12 04:02:07.878  7397668836    protest_riot   \n",
       "\n",
       "                                 TOPIC_URI EVENTURI SOURCE  \\\n",
       "0     eb7688e0-0c9f-4e9a-a2b8-2ba000a8f11b                   \n",
       "1     eb7688e0-0c9f-4e9a-a2b8-2ba000a8f11b                   \n",
       "2     eb7688e0-0c9f-4e9a-a2b8-2ba000a8f11b                   \n",
       "3     eb7688e0-0c9f-4e9a-a2b8-2ba000a8f11b                   \n",
       "4     eb7688e0-0c9f-4e9a-a2b8-2ba000a8f11b                   \n",
       "...                                    ...      ...    ...   \n",
       "2088  985cec5c-091d-44bc-a739-8d49b836f7ce                   \n",
       "2089  985cec5c-091d-44bc-a739-8d49b836f7ce                   \n",
       "2090  3c6e51c0-87a5-4343-9fd9-76b1edd597cf                   \n",
       "2091  f5e25ca7-4d7a-475e-89ab-7d45d5fa1365                   \n",
       "2092  985cec5c-091d-44bc-a739-8d49b836f7ce                   \n",
       "\n",
       "                                                    URL  \\\n",
       "0     https://stjohntradewinds.com/concrete-block-pl...   \n",
       "1     https://wsvn.com/news/local/broward/investigat...   \n",
       "2     https://www.chicagotribune.com/suburbs/aurora-...   \n",
       "3     https://www.cbsnews.com/philadelphia/news/phil...   \n",
       "4     https://www.foxnews.com/us/1-dead-suburban-chi...   \n",
       "...                                                 ...   \n",
       "2088  https://timesofindia.indiatimes.com/city/delhi...   \n",
       "2089  https://www.timesofisrael.com/liveblog_entry/t...   \n",
       "2090  https://www.thesun.co.uk/travel/21365752/easte...   \n",
       "2091  https://www.nzherald.co.nz/business/cyclone-ga...   \n",
       "2092  https://ottawa.ctvnews.ca/residents-mark-anniv...   \n",
       "\n",
       "                                                  TITLE  \\\n",
       "0               Concrete Block Plant Controversy Builds   \n",
       "1     Investigations underway after 2 pest control w...   \n",
       "2     Employee treated for smoke inhalation after fi...   \n",
       "3     Zero toxic compounds identified after Wissinom...   \n",
       "4     1 dead in suburban Chicago petroleum plant exp...   \n",
       "...                                                 ...   \n",
       "2088  Delhi street vendors protest against civic bod...   \n",
       "2089  Trains packed, thousands of vehicles join conv...   \n",
       "2090  Easter holiday warning as more airport staff s...   \n",
       "2091  Auckland Airport warns worst is yet to come, 4...   \n",
       "2092  Residents mark anniversary of 'Freedom Convoy'...   \n",
       "\n",
       "                                                   BODY  \\\n",
       "0     Proponents and opponents of a controversial zo...   \n",
       "1     POMPANO BEACH, FLA. (WSVN) - Police are invest...   \n",
       "2     An employee of a document destruction warehous...   \n",
       "3     PHILADELPHIA (CBS) -- No toxic compounds were ...   \n",
       "4     Fox News Flash top headlines are here. Check o...   \n",
       "...                                                 ...   \n",
       "2088  NEW DELHI: Hundreds of street vendors from acr...   \n",
       "2089  A packed train from Tel Aviv to Jerusalem as p...   \n",
       "2090  FAMILIES heading abroad during the Easter holi...   \n",
       "2091  Travellers are being warned about the importan...   \n",
       "2092  A small group of Ottawa residents marked a fla...   \n",
       "\n",
       "                                           BODY_SUMMARY METADATA  \\\n",
       "0     An online petition against the concrete block ...            \n",
       "1     Three employees of a pesticide company went to...            \n",
       "2     A fire broke out at a document destruction war...            \n",
       "3     The city collected an air sample in the vicini...            \n",
       "4     The explosion occurred at Seneca Petroleum in ...            \n",
       "...                                                 ...      ...   \n",
       "2088  Hundreds of street vendors from across the cap...            \n",
       "2089  Tens of thousands of people are participating ...            \n",
       "2090  More than 3,000 workers are calling to strike ...            \n",
       "2091  80 per cent of international flights through A...            \n",
       "2092  A small group of Ottawa residents marked a fla...            \n",
       "\n",
       "     ARTICLE_HIERARCHY  RELEVANCE_CLASS  \n",
       "0                                     0  \n",
       "1                                     1  \n",
       "2                                     1  \n",
       "3                                     1  \n",
       "4                                     1  \n",
       "...                ...              ...  \n",
       "2088                                  0  \n",
       "2089                                  0  \n",
       "2090                                  0  \n",
       "2091                                  1  \n",
       "2092                                  0  \n",
       "\n",
       "[2093 rows x 13 columns]"
      ]
     },
     "execution_count": 40,
     "metadata": {},
     "output_type": "execute_result"
    }
   ],
   "source": [
    "# in this case, the \"features\" extracted from the silver dataset is the BODY_SUMMARY that is used for zeroshot/fewshot learning\n",
    "# also, the column 'RELEVANCE_CLASS' is moved to the end as a good practice.\n",
    "schema_gold = ['INSERT_DATETIME', 'URI', 'TOPIC', 'TOPIC_URI', 'EVENTURI', 'SOURCE', 'URL', 'TITLE', 'BODY', 'BODY_SUMMARY', 'METADATA', 'ARTICLE_HIERARCHY', 'RELEVANCE_CLASS']\n",
    "# REARRANGE the df to the column order in the schema\n",
    "# Check the columns from the source df and the schema, if there is a missing column, create it and fill it with empty string\n",
    "df_ingestion = df_news_api_training.copy(deep=True)\n",
    "data_columns = df_ingestion.columns\n",
    "\n",
    "for column in schema_gold:\n",
    "    if column not in (data_columns):\n",
    "        df_ingestion[column] = ''\n",
    "\n",
    "# rearrange to the order we want in the schema\n",
    "df_ingestion[schema_gold]\n"
   ]
  },
  {
   "cell_type": "code",
   "execution_count": 41,
   "metadata": {},
   "outputs": [],
   "source": [
    "df_ingestion.to_csv('../temp_training/medallion/gold/NEWS_API_TRAINING_GOLD.csv')"
   ]
  }
 ],
 "metadata": {
  "kernelspec": {
   "display_name": "venv",
   "language": "python",
   "name": "python3"
  },
  "language_info": {
   "codemirror_mode": {
    "name": "ipython",
    "version": 3
   },
   "file_extension": ".py",
   "mimetype": "text/x-python",
   "name": "python",
   "nbconvert_exporter": "python",
   "pygments_lexer": "ipython3",
   "version": "3.10.11 (tags/v3.10.11:7d4cc5a, Apr  5 2023, 00:38:17) [MSC v.1929 64 bit (AMD64)]"
  },
  "orig_nbformat": 4,
  "vscode": {
   "interpreter": {
    "hash": "286bc12fa30b74ef856228bed3e3c37bde5be697e37af5195e71bc249a2a5043"
   }
  }
 },
 "nbformat": 4,
 "nbformat_minor": 2
}
