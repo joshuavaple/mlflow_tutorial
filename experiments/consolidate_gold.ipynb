{
 "cells": [
  {
   "cell_type": "code",
   "execution_count": 2,
   "metadata": {},
   "outputs": [],
   "source": [
    "import pandas as pd\n",
    "import os"
   ]
  },
  {
   "cell_type": "code",
   "execution_count": 5,
   "metadata": {},
   "outputs": [
    {
     "data": {
      "text/plain": [
       "['../temp_training/medallion/gold\\\\gold.csv',\n",
       " '../temp_training/medallion/gold\\\\gold_2023-10-20_08-46-12_L14D.csv',\n",
       " '../temp_training/medallion/gold\\\\gold_body_summary.csv',\n",
       " '../temp_training/medallion/gold\\\\gold_NEWS_API_ML_LABELLED_summary.csv',\n",
       " '../temp_training/medallion/gold\\\\gold_NEWS_API_ML_LABELLED_summary_02.csv',\n",
       " '../temp_training/medallion/gold\\\\gold_NEWS_API_TRAINING.csv']"
      ]
     },
     "execution_count": 5,
     "metadata": {},
     "output_type": "execute_result"
    }
   ],
   "source": [
    "gold_path = '../temp_training/medallion/gold'\n",
    "gold_files = os.listdir(gold_path)\n",
    "gold_file_paths = [os.path.join(gold_path, gold_file) for gold_file in gold_files]\n",
    "gold_file_paths"
   ]
  },
  {
   "cell_type": "code",
   "execution_count": 12,
   "metadata": {},
   "outputs": [],
   "source": [
    "# in this case, the \"features\" extracted from the silver dataset is the BODY_SUMMARY that is used for zeroshot/fewshot learning\n",
    "# also, the column 'RELEVANCE_CLASS' is moved to the end as a good practice.\n",
    "schema_gold = ['INSERT_DATETIME', 'URI', 'TOPIC', 'TOPIC_URI', 'EVENTURI', 'SOURCE', 'URL', 'TITLE', 'BODY', 'BODY_SUMMARY', 'METADATA', 'ARTICLE_HIERARCHY', 'RELEVANCE_CLASS']\n",
    "\n",
    "# REARRANGE the df to the column order in the schema\n",
    "# Check the columns from the source df and the schema, if there is a missing column, create it and fill it with empty string\n",
    "dataframes = [pd.read_csv(gold_file_path) for gold_file_path in gold_file_paths]\n",
    "results = []\n",
    "\n",
    "for df in dataframes:\n",
    "    data_columns = df.columns\n",
    "    for column in schema_gold:\n",
    "        # fill missing columns with \n",
    "        if column not in (data_columns):\n",
    "            df[column] = ''\n",
    "        # rearrange to the order we want in the schema\n",
    "    df[schema_gold]\n",
    "    results.append(df)\n",
    "        "
   ]
  },
  {
   "cell_type": "code",
   "execution_count": 32,
   "metadata": {},
   "outputs": [
    {
     "data": {
      "text/plain": [
       "RELEVANCE_CLASS\n",
       "-1     603\n",
       " 0    1558\n",
       " 1     855\n",
       "dtype: int64"
      ]
     },
     "execution_count": 32,
     "metadata": {},
     "output_type": "execute_result"
    }
   ],
   "source": [
    "gold_df_combined = pd.concat(results,)\n",
    "gold_df_combined.fillna(value='', inplace=True)\n",
    "gold_df_combined.drop(labels=['Unnamed: 0'],axis='columns',inplace=True)\n",
    "gold_df_combined.reset_index(drop=True, inplace=True)\n",
    "gold_df_combined = gold_df_combined[gold_df_combined['RELEVANCE_CLASS'].isin([-1,0,1])]\n",
    "gold_df_combined.groupby('RELEVANCE_CLASS').size()"
   ]
  },
  {
   "cell_type": "code",
   "execution_count": 34,
   "metadata": {},
   "outputs": [
    {
     "data": {
      "text/plain": [
       "(3016, 13)"
      ]
     },
     "execution_count": 34,
     "metadata": {},
     "output_type": "execute_result"
    }
   ],
   "source": [
    "gold_df_combined.shape"
   ]
  },
  {
   "cell_type": "code",
   "execution_count": 35,
   "metadata": {},
   "outputs": [
    {
     "data": {
      "text/plain": [
       "ARTICLE_HIERARCHY\n",
       "                   2313\n",
       "main_article        643\n",
       "related_article      60\n",
       "dtype: int64"
      ]
     },
     "execution_count": 35,
     "metadata": {},
     "output_type": "execute_result"
    }
   ],
   "source": [
    "gold_df_combined.groupby(['ARTICLE_HIERARCHY']).size()"
   ]
  },
  {
   "cell_type": "code",
   "execution_count": 41,
   "metadata": {},
   "outputs": [],
   "source": [
    "# saved in excel to prevent csv parsing errors\n",
    "gold_df_combined.to_excel('../temp_training/medallion/gold/gold_COMBINED.xlsx')"
   ]
  }
 ],
 "metadata": {
  "kernelspec": {
   "display_name": "venv",
   "language": "python",
   "name": "python3"
  },
  "language_info": {
   "codemirror_mode": {
    "name": "ipython",
    "version": 3
   },
   "file_extension": ".py",
   "mimetype": "text/x-python",
   "name": "python",
   "nbconvert_exporter": "python",
   "pygments_lexer": "ipython3",
   "version": "3.10.11 (tags/v3.10.11:7d4cc5a, Apr  5 2023, 00:38:17) [MSC v.1929 64 bit (AMD64)]"
  },
  "orig_nbformat": 4,
  "vscode": {
   "interpreter": {
    "hash": "286bc12fa30b74ef856228bed3e3c37bde5be697e37af5195e71bc249a2a5043"
   }
  }
 },
 "nbformat": 4,
 "nbformat_minor": 2
}
