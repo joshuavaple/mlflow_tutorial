{
 "cells": [
  {
   "attachments": {},
   "cell_type": "markdown",
   "metadata": {},
   "source": [
    "Steps:\n",
    "Load and preprocess data (bronze --> gold)\n",
    "Use TPOT to find the optimal pipeline with cross validation (try simple_pipeline = True to avoid using StackingEstimator and CombineDFs)\n",
    "Get the best pipeline from #2 as a variable\n",
    "\n",
    "For every iteration to fit the best pipeline again to the whole training data:\n",
    "- Set an experiment with ID by `EXPERIMENT_ID = mlflow.create_experiment(EXPERIMENT_NAME)`, \n",
    "- Start MLFlow run with `with mlflow.start_run(experiment_id=EXPERIMENT_ID) as run` \n",
    "- Get the prediction on the test set\n",
    "- Evaluate metrics on the test set\n",
    "- Log these metrics with mlflow.log_metric\n",
    "- Log params with `mlflow.log_param`\n",
    "- Log the model with  mlflow.sklearn.log_model(<the fitted classifier>, \"classifier\")"
   ]
  },
  {
   "cell_type": "markdown",
   "metadata": {},
   "source": [
    "Resources:\n",
    "- How to get all TPOT pipelines info and arrange them: https://github.com/EpistasisLab/tpot/issues/703\n"
   ]
  },
  {
   "cell_type": "code",
   "execution_count": 47,
   "metadata": {},
   "outputs": [],
   "source": [
    "import mlflow\n",
    "from sklearn.datasets import load_iris\n",
    "from sklearn.metrics import accuracy_score\n",
    "from sklearn.model_selection import train_test_split\n",
    "from sklearn.tree import DecisionTreeClassifier\n",
    "from tpot import TPOTClassifier\n",
    "from sklearn.metrics import accuracy_score, f1_score, precision_score, recall_score\n",
    "import itertools"
   ]
  },
  {
   "cell_type": "code",
   "execution_count": 2,
   "metadata": {},
   "outputs": [],
   "source": [
    "iris = load_iris()\n",
    "X, y = iris.data, iris.target\n",
    "X_train, X_test, y_train, y_test = train_test_split(\n",
    "    X, y, test_size=0.2, random_state=123\n",
    ")"
   ]
  },
  {
   "cell_type": "code",
   "execution_count": 3,
   "metadata": {},
   "outputs": [],
   "source": [
    "tpot_config = {\n",
    "    'sklearn.neighbors.KNeighborsClassifier': {\n",
    "        'n_neighbors': range(1, 21),\n",
    "        'weights': [\"uniform\", \"distance\"],\n",
    "        'p': [1, 2]\n",
    "    },\n",
    "\n",
    "    'sklearn.svm.LinearSVC': {\n",
    "        'penalty': [\"l1\", \"l2\"],\n",
    "        'loss': [\"hinge\", \"squared_hinge\"],\n",
    "        'dual': [True, False],\n",
    "        'tol': [1e-5, 1e-4, 1e-3, 1e-2, 1e-1],\n",
    "        'C': [1e-4, 1e-3, 1e-2, 1e-1, 0.5, 1., 5., 10., 15., 20., 25.]\n",
    "    },\n",
    "\n",
    "    'sklearn.linear_model.LogisticRegression': {\n",
    "        'penalty': [\"l1\", \"l2\"],\n",
    "        'C': [1e-4, 1e-3, 1e-2, 1e-1, 0.5, 1., 5., 10., 15., 20., 25.],\n",
    "        'dual': [True, False]\n",
    "    },\n",
    "}"
   ]
  },
  {
   "cell_type": "code",
   "execution_count": 71,
   "metadata": {},
   "outputs": [],
   "source": []
  },
  {
   "cell_type": "code",
   "execution_count": 104,
   "metadata": {},
   "outputs": [
    {
     "data": {
      "text/plain": [
       "[<Experiment: artifact_location='file:///c:/Users/JOSHUALE/Documents/Github/mlflow_tutorial/mlruns/461405648496883018', creation_time=1696917546571, experiment_id='461405648496883018', last_update_time=1696917546571, lifecycle_stage='active', name='tpot-mlflow-iris-003', tags={}>,\n",
       " <Experiment: artifact_location='file:///c:/Users/JOSHUALE/Documents/Github/mlflow_tutorial/mlruns/230552761396043462', creation_time=1696905495271, experiment_id='230552761396043462', last_update_time=1696905495271, lifecycle_stage='active', name='tpot-mlflow-iris-002', tags={}>,\n",
       " <Experiment: artifact_location='file:///c:/Users/JOSHUALE/Documents/Github/mlflow_tutorial/mlruns/0', creation_time=1696905185290, experiment_id='0', last_update_time=1696905185290, lifecycle_stage='active', name='Default', tags={}>]"
      ]
     },
     "execution_count": 104,
     "metadata": {},
     "output_type": "execute_result"
    }
   ],
   "source": [
    "EXPERIMENT_NAME = \"tpot-mlflow-iris-003\"\n",
    "EXPERIMENT_ID = mlflow.create_experiment(EXPERIMENT_NAME)\n",
    "# use this to search for experiments with their names, id, runs...\n",
    "mlflow.search_experiments()"
   ]
  },
  {
   "cell_type": "code",
   "execution_count": 102,
   "metadata": {},
   "outputs": [],
   "source": [
    "GENERATIONS = [4, 6, 8, 10]\n",
    "POPULATION_SIZE = 100\n",
    "SCORING = 'accuracy'\n",
    "RANDOM_STATE = 99\n",
    "# Scoring metrics:\n",
    "#['accuracy', 'adjusted_rand_score', 'average_precision', 'balanced_accuracy',\n",
    "            # 'f1', 'f1_macro', 'f1_micro', 'f1_samples', 'f1_weighted',\n",
    "            # 'precision', 'precision_macro', 'precision_micro', 'precision_samples',\n",
    "            # 'precision_weighted', 'recall', 'recall_macro', 'recall_micro',\n",
    "            # 'recall_samples', 'recall_weighted', 'roc_auc']\n",
    "\n",
    "# Initializing our TPOT pipeline optimizer\n"
   ]
  },
  {
   "cell_type": "code",
   "execution_count": 89,
   "metadata": {},
   "outputs": [],
   "source": [
    "# pipeline_params = pipeline_optimizer.__dict__\n",
    "# print(pipeline_params)\n",
    "# config_dict = pipeline_params.pop('config_dict', None)\n",
    "# print(config_dict)\n",
    "# print(len(str(pipeline_params)))\n",
    "# print(len(str(config_dict)))"
   ]
  },
  {
   "cell_type": "code",
   "execution_count": 103,
   "metadata": {},
   "outputs": [
    {
     "name": "stdout",
     "output_type": "stream",
     "text": [
      "                                                                              \n",
      "Generation 1 - Current best internal CV score: 0.975\n",
      "                                                                              \n",
      "Generation 2 - Current best internal CV score: 0.975\n",
      "                                                                              \n",
      "Generation 3 - Current best internal CV score: 0.975\n",
      "                                                                              \n",
      "Generation 4 - Current best internal CV score: 0.975\n",
      "                                                                              \n",
      "Best pipeline: LogisticRegression(input_matrix, C=25.0, dual=False, penalty=l2)\n",
      "186405\n",
      "512\n"
     ]
    },
    {
     "name": "stderr",
     "output_type": "stream",
     "text": [
      "c:\\Users\\JOSHUALE\\Documents\\Github\\mlflow_tutorial\\venv\\lib\\site-packages\\_distutils_hack\\__init__.py:18: UserWarning: Distutils was imported before Setuptools, but importing Setuptools also replaces the `distutils` module in `sys.modules`. This may lead to undesirable behaviors or errors. To avoid these issues, avoid using distutils directly, ensure that setuptools is installed in the traditional way (e.g. not an editable install), and/or make sure that setuptools is always imported before distutils.\n",
      "  warnings.warn(\n",
      "c:\\Users\\JOSHUALE\\Documents\\Github\\mlflow_tutorial\\venv\\lib\\site-packages\\_distutils_hack\\__init__.py:33: UserWarning: Setuptools is replacing distutils.\n",
      "  warnings.warn(\"Setuptools is replacing distutils.\")\n"
     ]
    },
    {
     "name": "stdout",
     "output_type": "stream",
     "text": [
      "                                                                              \n",
      "Generation 1 - Current best internal CV score: 0.975\n",
      "                                                                              \n",
      "Generation 2 - Current best internal CV score: 0.975\n",
      "                                                                              \n",
      "Generation 3 - Current best internal CV score: 0.975\n",
      "                                                                              \n",
      "Generation 4 - Current best internal CV score: 0.975\n",
      "                                                                              \n",
      "Generation 5 - Current best internal CV score: 0.975\n",
      "                                                                              \n",
      "Generation 6 - Current best internal CV score: 0.975\n",
      "                                                                              \n",
      "Best pipeline: LogisticRegression(input_matrix, C=25.0, dual=False, penalty=l2)\n",
      "244560\n",
      "512\n"
     ]
    },
    {
     "name": "stderr",
     "output_type": "stream",
     "text": [
      "c:\\Users\\JOSHUALE\\Documents\\Github\\mlflow_tutorial\\venv\\lib\\site-packages\\_distutils_hack\\__init__.py:18: UserWarning: Distutils was imported before Setuptools, but importing Setuptools also replaces the `distutils` module in `sys.modules`. This may lead to undesirable behaviors or errors. To avoid these issues, avoid using distutils directly, ensure that setuptools is installed in the traditional way (e.g. not an editable install), and/or make sure that setuptools is always imported before distutils.\n",
      "  warnings.warn(\n",
      "c:\\Users\\JOSHUALE\\Documents\\Github\\mlflow_tutorial\\venv\\lib\\site-packages\\_distutils_hack\\__init__.py:33: UserWarning: Setuptools is replacing distutils.\n",
      "  warnings.warn(\"Setuptools is replacing distutils.\")\n"
     ]
    },
    {
     "name": "stdout",
     "output_type": "stream",
     "text": [
      "                                                                              \n",
      "Generation 1 - Current best internal CV score: 0.975\n",
      "                                                                              \n",
      "Generation 2 - Current best internal CV score: 0.975\n",
      "                                                                              \n",
      "Generation 3 - Current best internal CV score: 0.975\n",
      "                                                                              \n",
      "Generation 4 - Current best internal CV score: 0.975\n",
      "                                                                              \n",
      "Generation 5 - Current best internal CV score: 0.975\n",
      "                                                                              \n",
      "Generation 6 - Current best internal CV score: 0.975\n",
      "                                                                              \n",
      "Generation 7 - Current best internal CV score: 0.975\n",
      "                                                                              \n",
      "Generation 8 - Current best internal CV score: 0.975\n",
      "                                                                              \n",
      "Best pipeline: LogisticRegression(input_matrix, C=25.0, dual=False, penalty=l2)\n",
      "282612\n",
      "512\n"
     ]
    },
    {
     "name": "stderr",
     "output_type": "stream",
     "text": [
      "c:\\Users\\JOSHUALE\\Documents\\Github\\mlflow_tutorial\\venv\\lib\\site-packages\\_distutils_hack\\__init__.py:18: UserWarning: Distutils was imported before Setuptools, but importing Setuptools also replaces the `distutils` module in `sys.modules`. This may lead to undesirable behaviors or errors. To avoid these issues, avoid using distutils directly, ensure that setuptools is installed in the traditional way (e.g. not an editable install), and/or make sure that setuptools is always imported before distutils.\n",
      "  warnings.warn(\n",
      "c:\\Users\\JOSHUALE\\Documents\\Github\\mlflow_tutorial\\venv\\lib\\site-packages\\_distutils_hack\\__init__.py:33: UserWarning: Setuptools is replacing distutils.\n",
      "  warnings.warn(\"Setuptools is replacing distutils.\")\n"
     ]
    },
    {
     "name": "stdout",
     "output_type": "stream",
     "text": [
      "                                                                               \n",
      "Generation 1 - Current best internal CV score: 0.975\n",
      "                                                                               \n",
      "Generation 2 - Current best internal CV score: 0.975\n",
      "                                                                               \n",
      "Generation 3 - Current best internal CV score: 0.975\n",
      "                                                                               \n",
      "Generation 4 - Current best internal CV score: 0.975\n",
      "                                                                               \n",
      "Generation 5 - Current best internal CV score: 0.975\n",
      "                                                                               \n",
      "Generation 6 - Current best internal CV score: 0.975\n",
      "                                                                               \n",
      "Generation 7 - Current best internal CV score: 0.975\n",
      "                                                                               \n",
      "Generation 8 - Current best internal CV score: 0.975\n",
      "                                                                                \n",
      "Generation 9 - Current best internal CV score: 0.975\n",
      "                                                                                \n",
      "Generation 10 - Current best internal CV score: 0.975\n",
      "                                                                                \n",
      "Best pipeline: LogisticRegression(input_matrix, C=25.0, dual=False, penalty=l2)\n",
      "309154\n",
      "512\n"
     ]
    },
    {
     "name": "stderr",
     "output_type": "stream",
     "text": [
      "c:\\Users\\JOSHUALE\\Documents\\Github\\mlflow_tutorial\\venv\\lib\\site-packages\\_distutils_hack\\__init__.py:18: UserWarning: Distutils was imported before Setuptools, but importing Setuptools also replaces the `distutils` module in `sys.modules`. This may lead to undesirable behaviors or errors. To avoid these issues, avoid using distutils directly, ensure that setuptools is installed in the traditional way (e.g. not an editable install), and/or make sure that setuptools is always imported before distutils.\n",
      "  warnings.warn(\n",
      "c:\\Users\\JOSHUALE\\Documents\\Github\\mlflow_tutorial\\venv\\lib\\site-packages\\_distutils_hack\\__init__.py:33: UserWarning: Setuptools is replacing distutils.\n",
      "  warnings.warn(\"Setuptools is replacing distutils.\")\n"
     ]
    }
   ],
   "source": [
    "for GENERATION in GENERATIONS:\n",
    "    pipeline_optimizer = TPOTClassifier(generations=GENERATION, \n",
    "                                    population_size=POPULATION_SIZE, \n",
    "                                    verbosity=2,\n",
    "                                    config_dict=tpot_config,\n",
    "                                    random_state=RANDOM_STATE,\n",
    "                                    scoring=SCORING,\n",
    "                                    )\n",
    "    # Start MLflow run by logging to the same experiment ID\n",
    "    EXPERIMENT_ID = '230552761396043462'\n",
    "    with mlflow.start_run(experiment_id=EXPERIMENT_ID) as run:\n",
    "        # Retrieve run id\n",
    "        RUN_ID = run.info.run_id\n",
    "        # fit the pipeline with current config:\n",
    "        pipeline_optimizer.fit(features=X_train, target=y_train)\n",
    "        fitted_pipeline = pipeline_optimizer.fitted_pipeline_\n",
    "\n",
    "        # predict on test set\n",
    "        y_pred = fitted_pipeline.predict(X_test)\n",
    "        accuracy = accuracy_score(y_test, y_pred)\n",
    "\n",
    "        # Track pipeline parameters\n",
    "        pipeline_params = pipeline_optimizer.__dict__\n",
    "        # print(pipeline_params)\n",
    "        config_dict = pipeline_params.pop('config_dict', None)\n",
    "        print(len(str(pipeline_params)))\n",
    "        print(len(str(config_dict)))\n",
    "        # mlflow.log_param('tpot_pipeline_params', pipeline_params) # below 500 chars\n",
    "        mlflow.set_tag('tpot_config_dict', config_dict) # above 500 chars\n",
    "        mlflow.log_param(\"tpot_generation\", GENERATION)\n",
    "        mlflow.log_param(\"tpot_population_size\", POPULATION_SIZE)\n",
    "        mlflow.log_param(\"tpot_scoring\", SCORING)\n",
    "        mlflow.log_param(\"tpot_random_state\", RANDOM_STATE)\n",
    "        # track best pipeline params:\n",
    "        mlflow.log_param(\"best_pipeline\", fitted_pipeline.steps)\n",
    "        # Track metrics\n",
    "        mlflow.log_metric(\"accuracy\", accuracy)\n",
    "\n",
    "        # Track model\n",
    "        mlflow.sklearn.log_model(fitted_pipeline, \"classifier\")"
   ]
  }
 ],
 "metadata": {
  "kernelspec": {
   "display_name": "venv",
   "language": "python",
   "name": "python3"
  },
  "language_info": {
   "codemirror_mode": {
    "name": "ipython",
    "version": 3
   },
   "file_extension": ".py",
   "mimetype": "text/x-python",
   "name": "python",
   "nbconvert_exporter": "python",
   "pygments_lexer": "ipython3",
   "version": "3.10.11 (tags/v3.10.11:7d4cc5a, Apr  5 2023, 00:38:17) [MSC v.1929 64 bit (AMD64)]"
  },
  "orig_nbformat": 4,
  "vscode": {
   "interpreter": {
    "hash": "286bc12fa30b74ef856228bed3e3c37bde5be697e37af5195e71bc249a2a5043"
   }
  }
 },
 "nbformat": 4,
 "nbformat_minor": 2
}
